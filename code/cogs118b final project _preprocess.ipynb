{
 "cells": [
  {
   "cell_type": "code",
   "execution_count": 1,
   "metadata": {},
   "outputs": [
    {
     "name": "stderr",
     "output_type": "stream",
     "text": [
      "[nltk_data] Downloading package wordnet to /home/biy011/nltk_data...\n",
      "[nltk_data]   Package wordnet is already up-to-date!\n",
      "[nltk_data] Downloading package stopwords to /home/biy011/nltk_data...\n",
      "[nltk_data]   Package stopwords is already up-to-date!\n"
     ]
    }
   ],
   "source": [
    "import pandas as pd\n",
    "import numpy as np\n",
    "from sklearn.model_selection import train_test_split\n",
    "import torch\n",
    "import random\n",
    "import nltk\n",
    "nltk.download('wordnet')\n",
    "nltk.download('stopwords')\n",
    "from nltk.corpus import stopwords\n",
    "stop_words = set(stopwords.words('english'))\n",
    "from nltk.tokenize import TreebankWordTokenizer\n",
    "from collections import defaultdict\n",
    "import nltk\n",
    "import string\n",
    "import re\n",
    "import seaborn as sns\n",
    "import pandas as pd\n",
    "import matplotlib.pyplot as plt\n",
    "%matplotlib inline"
   ]
  },
  {
   "cell_type": "code",
   "execution_count": 2,
   "metadata": {},
   "outputs": [],
   "source": [
    "train_orig = pd.read_csv('Corona_NLP_train.csv', encoding = 'latin1')\n",
    "test_orig = pd.read_csv('Corona_NLP_test.csv',encoding = 'latin1')"
   ]
  },
  {
   "cell_type": "markdown",
   "metadata": {},
   "source": [
    "# Preprocess start here!"
   ]
  },
  {
   "cell_type": "code",
   "execution_count": 3,
   "metadata": {},
   "outputs": [],
   "source": [
    "train_orig=train_orig[['OriginalTweet','Sentiment']]\n",
    "test_orig=test_orig[['OriginalTweet','Sentiment']]"
   ]
  },
  {
   "cell_type": "code",
   "execution_count": 4,
   "metadata": {},
   "outputs": [],
   "source": [
    "#pd.isnull(train_orig).sum()\n",
    "#pd.isnull(test_orig).sum()"
   ]
  },
  {
   "cell_type": "code",
   "execution_count": 5,
   "metadata": {},
   "outputs": [],
   "source": [
    "train_orig = train_orig.dropna()\n",
    "test_orig = test_orig.dropna()"
   ]
  },
  {
   "cell_type": "code",
   "execution_count": 6,
   "metadata": {},
   "outputs": [],
   "source": [
    "def remove_urls(input_text):\n",
    "    input_text=str(input_text)\n",
    "    result=re.sub(r'http.?://[^\\s]+[\\s]?', '', input_text)\n",
    "    return result\n",
    "\n",
    "def remove_nonASCII(string_):\n",
    "    printable = set(string.printable)\n",
    "    punctuation = set(string.punctuation)\n",
    "    #res=''.join(filter(lambda x: x not in printable, string_))\n",
    "    r = ''.join([c for c in string_ if (c in printable and c not in punctuation)])\n",
    "    return r\n",
    "\n",
    "def remove_speChar(string):\n",
    "    if '\\r' in string:\n",
    "        string=string.replace('\\r', ' ')\n",
    "    if  '\\n' in string:\n",
    "        string=string.replace('\\n', ' ')\n",
    "    return string"
   ]
  },
  {
   "cell_type": "code",
   "execution_count": 7,
   "metadata": {},
   "outputs": [],
   "source": [
    "train_orig['NewTweet']=train_orig.apply(lambda row: remove_urls(row['OriginalTweet']), axis=1)\n",
    "test_orig['NewTweet']=test_orig.apply(lambda row: remove_urls(row['OriginalTweet']), axis=1)"
   ]
  },
  {
   "cell_type": "code",
   "execution_count": 8,
   "metadata": {},
   "outputs": [
    {
     "data": {
      "text/html": [
       "<div>\n",
       "<style scoped>\n",
       "    .dataframe tbody tr th:only-of-type {\n",
       "        vertical-align: middle;\n",
       "    }\n",
       "\n",
       "    .dataframe tbody tr th {\n",
       "        vertical-align: top;\n",
       "    }\n",
       "\n",
       "    .dataframe thead th {\n",
       "        text-align: right;\n",
       "    }\n",
       "</style>\n",
       "<table border=\"1\" class=\"dataframe\">\n",
       "  <thead>\n",
       "    <tr style=\"text-align: right;\">\n",
       "      <th></th>\n",
       "      <th>OriginalTweet</th>\n",
       "      <th>Sentiment</th>\n",
       "      <th>NewTweet</th>\n",
       "    </tr>\n",
       "  </thead>\n",
       "  <tbody>\n",
       "    <tr>\n",
       "      <th>0</th>\n",
       "      <td>@MeNyrbie @Phil_Gahan @Chrisitv https://t.co/i...</td>\n",
       "      <td>Neutral</td>\n",
       "      <td>@MeNyrbie @Phil_Gahan @Chrisitv and and</td>\n",
       "    </tr>\n",
       "    <tr>\n",
       "      <th>1</th>\n",
       "      <td>advice Talk to your neighbours family to excha...</td>\n",
       "      <td>Positive</td>\n",
       "      <td>advice Talk to your neighbours family to excha...</td>\n",
       "    </tr>\n",
       "    <tr>\n",
       "      <th>2</th>\n",
       "      <td>Coronavirus Australia: Woolworths to give elde...</td>\n",
       "      <td>Positive</td>\n",
       "      <td>Coronavirus Australia: Woolworths to give elde...</td>\n",
       "    </tr>\n",
       "    <tr>\n",
       "      <th>3</th>\n",
       "      <td>My food stock is not the only one which is emp...</td>\n",
       "      <td>Positive</td>\n",
       "      <td>My food stock is not the only one which is emp...</td>\n",
       "    </tr>\n",
       "    <tr>\n",
       "      <th>4</th>\n",
       "      <td>Me, ready to go at supermarket during the #COV...</td>\n",
       "      <td>Extremely Negative</td>\n",
       "      <td>Me, ready to go at supermarket during the #COV...</td>\n",
       "    </tr>\n",
       "    <tr>\n",
       "      <th>5</th>\n",
       "      <td>As news of the regionÂs first confirmed COVID...</td>\n",
       "      <td>Positive</td>\n",
       "      <td>As news of the regionÂs first confirmed COVID...</td>\n",
       "    </tr>\n",
       "    <tr>\n",
       "      <th>6</th>\n",
       "      <td>Cashier at grocery store was sharing his insig...</td>\n",
       "      <td>Positive</td>\n",
       "      <td>Cashier at grocery store was sharing his insig...</td>\n",
       "    </tr>\n",
       "    <tr>\n",
       "      <th>7</th>\n",
       "      <td>Was at the supermarket today. Didn't buy toile...</td>\n",
       "      <td>Neutral</td>\n",
       "      <td>Was at the supermarket today. Didn't buy toile...</td>\n",
       "    </tr>\n",
       "    <tr>\n",
       "      <th>8</th>\n",
       "      <td>Due to COVID-19 our retail store and classroom...</td>\n",
       "      <td>Positive</td>\n",
       "      <td>Due to COVID-19 our retail store and classroom...</td>\n",
       "    </tr>\n",
       "    <tr>\n",
       "      <th>9</th>\n",
       "      <td>For corona prevention,we should stop to buy th...</td>\n",
       "      <td>Negative</td>\n",
       "      <td>For corona prevention,we should stop to buy th...</td>\n",
       "    </tr>\n",
       "  </tbody>\n",
       "</table>\n",
       "</div>"
      ],
      "text/plain": [
       "                                       OriginalTweet           Sentiment  \\\n",
       "0  @MeNyrbie @Phil_Gahan @Chrisitv https://t.co/i...             Neutral   \n",
       "1  advice Talk to your neighbours family to excha...            Positive   \n",
       "2  Coronavirus Australia: Woolworths to give elde...            Positive   \n",
       "3  My food stock is not the only one which is emp...            Positive   \n",
       "4  Me, ready to go at supermarket during the #COV...  Extremely Negative   \n",
       "5  As news of the regionÂs first confirmed COVID...            Positive   \n",
       "6  Cashier at grocery store was sharing his insig...            Positive   \n",
       "7  Was at the supermarket today. Didn't buy toile...             Neutral   \n",
       "8  Due to COVID-19 our retail store and classroom...            Positive   \n",
       "9  For corona prevention,we should stop to buy th...            Negative   \n",
       "\n",
       "                                            NewTweet  \n",
       "0           @MeNyrbie @Phil_Gahan @Chrisitv and and   \n",
       "1  advice Talk to your neighbours family to excha...  \n",
       "2  Coronavirus Australia: Woolworths to give elde...  \n",
       "3  My food stock is not the only one which is emp...  \n",
       "4  Me, ready to go at supermarket during the #COV...  \n",
       "5  As news of the regionÂs first confirmed COVID...  \n",
       "6  Cashier at grocery store was sharing his insig...  \n",
       "7  Was at the supermarket today. Didn't buy toile...  \n",
       "8  Due to COVID-19 our retail store and classroom...  \n",
       "9  For corona prevention,we should stop to buy th...  "
      ]
     },
     "execution_count": 8,
     "metadata": {},
     "output_type": "execute_result"
    }
   ],
   "source": [
    "train_orig.head(10)"
   ]
  },
  {
   "cell_type": "code",
   "execution_count": 9,
   "metadata": {},
   "outputs": [],
   "source": [
    "train_orig['NewTweet']=train_orig.apply(lambda row: remove_nonASCII(row['NewTweet']), axis=1)\n",
    "test_orig['NewTweet']=test_orig.apply(lambda row: remove_nonASCII(row['NewTweet']), axis=1)"
   ]
  },
  {
   "cell_type": "code",
   "execution_count": 10,
   "metadata": {},
   "outputs": [
    {
     "data": {
      "text/html": [
       "<div>\n",
       "<style scoped>\n",
       "    .dataframe tbody tr th:only-of-type {\n",
       "        vertical-align: middle;\n",
       "    }\n",
       "\n",
       "    .dataframe tbody tr th {\n",
       "        vertical-align: top;\n",
       "    }\n",
       "\n",
       "    .dataframe thead th {\n",
       "        text-align: right;\n",
       "    }\n",
       "</style>\n",
       "<table border=\"1\" class=\"dataframe\">\n",
       "  <thead>\n",
       "    <tr style=\"text-align: right;\">\n",
       "      <th></th>\n",
       "      <th>OriginalTweet</th>\n",
       "      <th>Sentiment</th>\n",
       "      <th>NewTweet</th>\n",
       "    </tr>\n",
       "  </thead>\n",
       "  <tbody>\n",
       "    <tr>\n",
       "      <th>0</th>\n",
       "      <td>@MeNyrbie @Phil_Gahan @Chrisitv https://t.co/i...</td>\n",
       "      <td>Neutral</td>\n",
       "      <td>MeNyrbie PhilGahan Chrisitv and and</td>\n",
       "    </tr>\n",
       "    <tr>\n",
       "      <th>1</th>\n",
       "      <td>advice Talk to your neighbours family to excha...</td>\n",
       "      <td>Positive</td>\n",
       "      <td>advice Talk to your neighbours family to excha...</td>\n",
       "    </tr>\n",
       "    <tr>\n",
       "      <th>2</th>\n",
       "      <td>Coronavirus Australia: Woolworths to give elde...</td>\n",
       "      <td>Positive</td>\n",
       "      <td>Coronavirus Australia Woolworths to give elder...</td>\n",
       "    </tr>\n",
       "    <tr>\n",
       "      <th>3</th>\n",
       "      <td>My food stock is not the only one which is emp...</td>\n",
       "      <td>Positive</td>\n",
       "      <td>My food stock is not the only one which is emp...</td>\n",
       "    </tr>\n",
       "    <tr>\n",
       "      <th>4</th>\n",
       "      <td>Me, ready to go at supermarket during the #COV...</td>\n",
       "      <td>Extremely Negative</td>\n",
       "      <td>Me ready to go at supermarket during the COVID...</td>\n",
       "    </tr>\n",
       "  </tbody>\n",
       "</table>\n",
       "</div>"
      ],
      "text/plain": [
       "                                       OriginalTweet           Sentiment  \\\n",
       "0  @MeNyrbie @Phil_Gahan @Chrisitv https://t.co/i...             Neutral   \n",
       "1  advice Talk to your neighbours family to excha...            Positive   \n",
       "2  Coronavirus Australia: Woolworths to give elde...            Positive   \n",
       "3  My food stock is not the only one which is emp...            Positive   \n",
       "4  Me, ready to go at supermarket during the #COV...  Extremely Negative   \n",
       "\n",
       "                                            NewTweet  \n",
       "0               MeNyrbie PhilGahan Chrisitv and and   \n",
       "1  advice Talk to your neighbours family to excha...  \n",
       "2  Coronavirus Australia Woolworths to give elder...  \n",
       "3  My food stock is not the only one which is emp...  \n",
       "4  Me ready to go at supermarket during the COVID...  "
      ]
     },
     "execution_count": 10,
     "metadata": {},
     "output_type": "execute_result"
    }
   ],
   "source": [
    "train_orig.head()"
   ]
  },
  {
   "cell_type": "code",
   "execution_count": 11,
   "metadata": {},
   "outputs": [],
   "source": [
    "train_orig['NewTweet'] = train_orig['NewTweet'].str.lower()\n",
    "train_orig['NewTweet']=train_orig.apply(lambda row: remove_speChar(row['NewTweet']), axis=1)\n",
    "train_ls=train_orig['NewTweet'].tolist()\n",
    "train = train_orig\n",
    "\n",
    "test_orig['NewTweet'] = test_orig['NewTweet'].str.lower()\n",
    "test_orig['NewTweet']=test_orig.apply(lambda row: remove_speChar(row['NewTweet']), axis=1)\n",
    "test_ls=test_orig['NewTweet'].tolist()\n",
    "test = test_orig"
   ]
  },
  {
   "cell_type": "markdown",
   "metadata": {},
   "source": [
    "# change 5 categories to 3; change \"netural\":0, \"positive\":1,\"negative\":2"
   ]
  },
  {
   "cell_type": "code",
   "execution_count": 12,
   "metadata": {},
   "outputs": [],
   "source": [
    "train['Sentiment'].unique()\n",
    "#change five categories to three \n",
    "train_df = train\n",
    "test_df = test"
   ]
  },
  {
   "cell_type": "code",
   "execution_count": 13,
   "metadata": {},
   "outputs": [],
   "source": [
    "def change_sen(sentiment):\n",
    "    if sentiment == \"Extremely Positive\":\n",
    "        return 'positive'\n",
    "    elif sentiment == \"Extremely Negative\":\n",
    "        return 'negative'\n",
    "    elif sentiment == \"Positive\":\n",
    "        return 'positive'\n",
    "    elif sentiment == \"Negative\":\n",
    "        return 'negative'\n",
    "    else:\n",
    "        return 'netural'"
   ]
  },
  {
   "cell_type": "code",
   "execution_count": 14,
   "metadata": {},
   "outputs": [
    {
     "data": {
      "text/plain": [
       "<matplotlib.axes._subplots.AxesSubplot at 0x7f5f755fd2e8>"
      ]
     },
     "execution_count": 14,
     "metadata": {},
     "output_type": "execute_result"
    },
    {
     "data": {
      "image/png": "[encoded data removed]",
      "text/plain": [
       "<Figure size 432x288 with 1 Axes>"
      ]
     },
     "metadata": {
      "needs_background": "light"
     },
     "output_type": "display_data"
    }
   ],
   "source": [
    "sns.countplot(train['Sentiment'])"
   ]
  },
  {
   "cell_type": "code",
   "execution_count": 15,
   "metadata": {},
   "outputs": [],
   "source": [
    "train_df['Sentiment'] = train_df['Sentiment'].apply(lambda x: change_sen(x))\n",
    "test_df['Sentiment'] = test_df['Sentiment'].apply(lambda x: change_sen(x))"
   ]
  },
  {
   "cell_type": "code",
   "execution_count": 16,
   "metadata": {},
   "outputs": [
    {
     "data": {
      "text/plain": [
       "<matplotlib.axes._subplots.AxesSubplot at 0x7f5f750d6f98>"
      ]
     },
     "execution_count": 16,
     "metadata": {},
     "output_type": "execute_result"
    },
    {
     "data": {
      "image/png": "[encoded data removed]",
      "text/plain": [
       "<Figure size 432x288 with 1 Axes>"
      ]
     },
     "metadata": {
      "needs_background": "light"
     },
     "output_type": "display_data"
    }
   ],
   "source": [
    "sns.countplot(train_df['Sentiment'])"
   ]
  },
  {
   "cell_type": "code",
   "execution_count": 17,
   "metadata": {},
   "outputs": [],
   "source": [
    "label = {\"netural\":0, \"positive\":1,\"negative\":2}\n",
    "train_df['Sentiment'] = train_df['Sentiment'].map(label)\n",
    "test_df['Sentiment']  = test_df['Sentiment'].map(label)"
   ]
  },
  {
   "cell_type": "markdown",
   "metadata": {},
   "source": [
    "# tokenization & word count & vocab_to_int"
   ]
  },
  {
   "cell_type": "code",
   "execution_count": 18,
   "metadata": {},
   "outputs": [],
   "source": [
    "# count frequency of words in counts; \n",
    "#create word dict:word_to_int based on counts \n",
    "def word_dict(ls, type_):\n",
    "    wordCount = defaultdict(int)\n",
    "    punctuation = set(string.punctuation)\n",
    "    tokenizer = TreebankWordTokenizer()\n",
    "    for d in ls:\n",
    "        d = tokenizer.tokenize(d)\n",
    "        #d = [token for token in d if token not in stop_words]\n",
    "        for w in d:\n",
    "            wordCount[w] += 1\n",
    "    #count is counting the word frequency and sort from most frequent to least\n",
    "    counts = [(wordCount[w], w) for w in wordCount]\n",
    "    counts.sort()\n",
    "    counts.reverse()\n",
    "    words_list = [x[1] for x in counts]\n",
    "    words = set(words_list)\n",
    "    vocab_to_int={w:i+1 for i,(c,w) in enumerate(counts)}\n",
    "    if type_ =='v':\n",
    "        return vocab_to_int\n",
    "    else:\n",
    "        return counts"
   ]
  },
  {
   "cell_type": "code",
   "execution_count": 19,
   "metadata": {},
   "outputs": [],
   "source": [
    "train_c = word_dict(train_df['NewTweet'], 'c')\n",
    "train_vocab_to_int = word_dict(train_df['NewTweet'], 'v')\n",
    "\n",
    "test_c = word_dict(test_df['NewTweet'], 'c')\n",
    "test_vocab_to_int = word_dict(test_df['NewTweet'], 'v')"
   ]
  },
  {
   "cell_type": "code",
   "execution_count": 20,
   "metadata": {},
   "outputs": [],
   "source": [
    "#tweet int: list contains list of sentence in which words convert to numerical values\n",
    "def w_to_num(vocab_to_int,ls):\n",
    "    tweet_int = []\n",
    "    for review in ls:\n",
    "        cur_ls=[]\n",
    "        for word in review.split():\n",
    "            if word not in vocab_to_int.keys():\n",
    "                cur_ls.append(0)\n",
    "            else:\n",
    "                cur_ls.append(vocab_to_int[word])\n",
    "        tweet_int.append(cur_ls)\n",
    "    return tweet_int"
   ]
  },
  {
   "cell_type": "code",
   "execution_count": 21,
   "metadata": {},
   "outputs": [],
   "source": [
    "train_int = w_to_num(train_vocab_to_int,train_ls)\n",
    "\n",
    "test_int = w_to_num(test_vocab_to_int,test_ls)"
   ]
  },
  {
   "cell_type": "markdown",
   "metadata": {},
   "source": [
    "tweet_Int<- x_train; sentiment <- train_df[..]"
   ]
  },
  {
   "cell_type": "markdown",
   "metadata": {},
   "source": [
    "## Plot Tweet length distribution"
   ]
  },
  {
   "cell_type": "code",
   "execution_count": 22,
   "metadata": {},
   "outputs": [],
   "source": [
    "def plot_tweet(ls,string):\n",
    "    reviews_len = [len(x) for x in ls]\n",
    "    pd.Series(reviews_len).hist()\n",
    "    plt.title(string + ' tweet length distribution: word length in tweet VS frequency ')\n",
    "    plt.xlabel('legnth of word in each tweet')\n",
    "    plt.ylabel('frequeccy')\n",
    "    plt.show()\n",
    "    print(pd.Series(reviews_len).describe())"
   ]
  },
  {
   "cell_type": "code",
   "execution_count": 23,
   "metadata": {},
   "outputs": [
    {
     "name": "stdout",
     "output_type": "stream",
     "text": [
      "41157\n"
     ]
    }
   ],
   "source": [
    "print(len(train_int))"
   ]
  },
  {
   "cell_type": "code",
   "execution_count": 24,
   "metadata": {},
   "outputs": [
    {
     "data": {
      "image/png": "[encoded data removed]",
      "text/plain": [
       "<Figure size 432x288 with 1 Axes>"
      ]
     },
     "metadata": {
      "needs_background": "light"
     },
     "output_type": "display_data"
    },
    {
     "name": "stdout",
     "output_type": "stream",
     "text": [
      "count    41157.000000\n",
      "mean        29.613674\n",
      "std         11.704519\n",
      "min          0.000000\n",
      "25%         20.000000\n",
      "50%         31.000000\n",
      "75%         39.000000\n",
      "max         64.000000\n",
      "dtype: float64\n"
     ]
    }
   ],
   "source": [
    "plot_tweet(train_int,'train')"
   ]
  },
  {
   "cell_type": "code",
   "execution_count": 25,
   "metadata": {},
   "outputs": [
    {
     "data": {
      "image/png": "[encoded data removed]",
      "text/plain": [
       "<Figure size 432x288 with 1 Axes>"
      ]
     },
     "metadata": {
      "needs_background": "light"
     },
     "output_type": "display_data"
    },
    {
     "name": "stdout",
     "output_type": "stream",
     "text": [
      "count    3798.000000\n",
      "mean       32.086888\n",
      "std        11.840029\n",
      "min         2.000000\n",
      "25%        23.000000\n",
      "50%        33.000000\n",
      "75%        42.000000\n",
      "max        62.000000\n",
      "dtype: float64\n"
     ]
    }
   ],
   "source": [
    "plot_tweet(test_int,'test')"
   ]
  },
  {
   "cell_type": "markdown",
   "metadata": {},
   "source": [
    "# Padding / Truncating data"
   ]
  },
  {
   "cell_type": "code",
   "execution_count": 26,
   "metadata": {},
   "outputs": [],
   "source": [
    "def pad_features(reviews_int, seq_length):\n",
    "    ''' Return features of review_ints, where each review is padded with 0's or truncated to the input seq_length.\n",
    "    '''\n",
    "    features = np.zeros((len(reviews_int), seq_length), dtype = int)\n",
    "    \n",
    "    for i, review in enumerate(reviews_int):\n",
    "        review_len = len(review)\n",
    "        \n",
    "        if review_len <= seq_length:\n",
    "            zeroes = list(np.zeros(seq_length-review_len))\n",
    "            new = zeroes+review\n",
    "        elif review_len > seq_length:\n",
    "            new = review[0:seq_length]\n",
    "        \n",
    "        features[i,:] = np.array(new)\n",
    "    \n",
    "    return features"
   ]
  },
  {
   "cell_type": "code",
   "execution_count": 27,
   "metadata": {},
   "outputs": [],
   "source": [
    "#self define seq_length as 31(same as median, close to mean) \n",
    "THRESHOLD = 31\n",
    "feature_train = pad_features(train_int,THRESHOLD)\n",
    "#print(feature_ls)\n",
    "feature_test = pad_features(test_int,THRESHOLD)\n",
    "#we set the THRESHOLD so that all tweet length have the same length\n",
    "#for tweet shorter than length set them to zero;\n",
    "#for those longer: cut them to threshold"
   ]
  },
  {
   "cell_type": "code",
   "execution_count": null,
   "metadata": {},
   "outputs": [],
   "source": [
    "df.to_csv(index=False)\n",
    "'name,mask,weapon\\nRaphael,red,sai\\nDonatello,purple,bo staff\\n'"
   ]
  },
  {
   "cell_type": "markdown",
   "metadata": {},
   "source": [
    "# split train & validation"
   ]
  },
  {
   "cell_type": "code",
   "execution_count": 36,
   "metadata": {},
   "outputs": [],
   "source": [
    "x = feature_test\n",
    "y = test_df['Sentiment']"
   ]
  },
  {
   "cell_type": "code",
   "execution_count": 39,
   "metadata": {},
   "outputs": [
    {
     "data": {
      "text/html": [
       "<div>\n",
       "<style scoped>\n",
       "    .dataframe tbody tr th:only-of-type {\n",
       "        vertical-align: middle;\n",
       "    }\n",
       "\n",
       "    .dataframe tbody tr th {\n",
       "        vertical-align: top;\n",
       "    }\n",
       "\n",
       "    .dataframe thead th {\n",
       "        text-align: right;\n",
       "    }\n",
       "</style>\n",
       "<table border=\"1\" class=\"dataframe\">\n",
       "  <thead>\n",
       "    <tr style=\"text-align: right;\">\n",
       "      <th></th>\n",
       "      <th>0</th>\n",
       "      <th>1</th>\n",
       "      <th>2</th>\n",
       "      <th>3</th>\n",
       "      <th>4</th>\n",
       "      <th>5</th>\n",
       "      <th>6</th>\n",
       "      <th>7</th>\n",
       "      <th>8</th>\n",
       "      <th>9</th>\n",
       "      <th>...</th>\n",
       "      <th>21</th>\n",
       "      <th>22</th>\n",
       "      <th>23</th>\n",
       "      <th>24</th>\n",
       "      <th>25</th>\n",
       "      <th>26</th>\n",
       "      <th>27</th>\n",
       "      <th>28</th>\n",
       "      <th>29</th>\n",
       "      <th>30</th>\n",
       "    </tr>\n",
       "  </thead>\n",
       "  <tbody>\n",
       "    <tr>\n",
       "      <th>0</th>\n",
       "      <td>0</td>\n",
       "      <td>0</td>\n",
       "      <td>0</td>\n",
       "      <td>0</td>\n",
       "      <td>0</td>\n",
       "      <td>0</td>\n",
       "      <td>0</td>\n",
       "      <td>0</td>\n",
       "      <td>0</td>\n",
       "      <td>0</td>\n",
       "      <td>...</td>\n",
       "      <td>2953</td>\n",
       "      <td>38</td>\n",
       "      <td>1187</td>\n",
       "      <td>9888</td>\n",
       "      <td>8483</td>\n",
       "      <td>41</td>\n",
       "      <td>10927</td>\n",
       "      <td>384</td>\n",
       "      <td>20</td>\n",
       "      <td>22</td>\n",
       "    </tr>\n",
       "    <tr>\n",
       "      <th>1</th>\n",
       "      <td>0</td>\n",
       "      <td>0</td>\n",
       "      <td>85</td>\n",
       "      <td>12</td>\n",
       "      <td>985</td>\n",
       "      <td>268</td>\n",
       "      <td>119</td>\n",
       "      <td>181</td>\n",
       "      <td>17</td>\n",
       "      <td>4647</td>\n",
       "      <td>...</td>\n",
       "      <td>5</td>\n",
       "      <td>7333</td>\n",
       "      <td>40</td>\n",
       "      <td>71</td>\n",
       "      <td>8</td>\n",
       "      <td>566</td>\n",
       "      <td>13</td>\n",
       "      <td>1409</td>\n",
       "      <td>22</td>\n",
       "      <td>46</td>\n",
       "    </tr>\n",
       "    <tr>\n",
       "      <th>2</th>\n",
       "      <td>0</td>\n",
       "      <td>0</td>\n",
       "      <td>0</td>\n",
       "      <td>0</td>\n",
       "      <td>0</td>\n",
       "      <td>0</td>\n",
       "      <td>0</td>\n",
       "      <td>0</td>\n",
       "      <td>0</td>\n",
       "      <td>0</td>\n",
       "      <td>...</td>\n",
       "      <td>71</td>\n",
       "      <td>15</td>\n",
       "      <td>47</td>\n",
       "      <td>439</td>\n",
       "      <td>720</td>\n",
       "      <td>4</td>\n",
       "      <td>2180</td>\n",
       "      <td>614</td>\n",
       "      <td>43</td>\n",
       "      <td>8</td>\n",
       "    </tr>\n",
       "    <tr>\n",
       "      <th>3</th>\n",
       "      <td>42</td>\n",
       "      <td>67</td>\n",
       "      <td>1900</td>\n",
       "      <td>2160</td>\n",
       "      <td>460</td>\n",
       "      <td>41</td>\n",
       "      <td>1742</td>\n",
       "      <td>384</td>\n",
       "      <td>20</td>\n",
       "      <td>22</td>\n",
       "      <td>...</td>\n",
       "      <td>1586</td>\n",
       "      <td>680</td>\n",
       "      <td>8</td>\n",
       "      <td>1499</td>\n",
       "      <td>30</td>\n",
       "      <td>7</td>\n",
       "      <td>11632</td>\n",
       "      <td>6391</td>\n",
       "      <td>1113</td>\n",
       "      <td>2480</td>\n",
       "    </tr>\n",
       "    <tr>\n",
       "      <th>4</th>\n",
       "      <td>0</td>\n",
       "      <td>0</td>\n",
       "      <td>0</td>\n",
       "      <td>0</td>\n",
       "      <td>0</td>\n",
       "      <td>0</td>\n",
       "      <td>307</td>\n",
       "      <td>10371</td>\n",
       "      <td>8</td>\n",
       "      <td>1713</td>\n",
       "      <td>...</td>\n",
       "      <td>584</td>\n",
       "      <td>443</td>\n",
       "      <td>3094</td>\n",
       "      <td>1</td>\n",
       "      <td>223</td>\n",
       "      <td>90</td>\n",
       "      <td>67</td>\n",
       "      <td>22</td>\n",
       "      <td>53</td>\n",
       "      <td>55</td>\n",
       "    </tr>\n",
       "  </tbody>\n",
       "</table>\n",
       "<p>5 rows × 31 columns</p>\n",
       "</div>"
      ],
      "text/plain": [
       "   0   1     2     3    4    5     6      7   8     9   ...    21    22    23  \\\n",
       "0   0   0     0     0    0    0     0      0   0     0  ...  2953    38  1187   \n",
       "1   0   0    85    12  985  268   119    181  17  4647  ...     5  7333    40   \n",
       "2   0   0     0     0    0    0     0      0   0     0  ...    71    15    47   \n",
       "3  42  67  1900  2160  460   41  1742    384  20    22  ...  1586   680     8   \n",
       "4   0   0     0     0    0    0   307  10371   8  1713  ...   584   443  3094   \n",
       "\n",
       "     24    25   26     27    28    29    30  \n",
       "0  9888  8483   41  10927   384    20    22  \n",
       "1    71     8  566     13  1409    22    46  \n",
       "2   439   720    4   2180   614    43     8  \n",
       "3  1499    30    7  11632  6391  1113  2480  \n",
       "4     1   223   90     67    22    53    55  \n",
       "\n",
       "[5 rows x 31 columns]"
      ]
     },
     "execution_count": 39,
     "metadata": {},
     "output_type": "execute_result"
    }
   ],
   "source": [
    "df = pd.DataFrame (x)\n",
    "df.head()"
   ]
  },
  {
   "cell_type": "code",
   "execution_count": 28,
   "metadata": {},
   "outputs": [
    {
     "data": {
      "text/plain": [
       "array([[    0,     0,     0, ..., 15893,     3,     3],\n",
       "       [  516,   907,     2, ..., 14227,  3376,   193],\n",
       "       [    0,     0,     0, ...,   162,     8,   137],\n",
       "       ...,\n",
       "       [    0,     0,     0, ...,    81,    66,    42],\n",
       "       [    0,     0,     0, ...,     7,     8,     7],\n",
       "       [28460,   192, 37855, ..., 12369,   239, 20529]])"
      ]
     },
     "execution_count": 28,
     "metadata": {},
     "output_type": "execute_result"
    }
   ],
   "source": [
    "feature_train"
   ]
  },
  {
   "cell_type": "code",
   "execution_count": 29,
   "metadata": {},
   "outputs": [],
   "source": [
    "#split train and validation data (80,20)\n",
    "X_train, X_val, y_train, y_val = train_test_split(feature_train, train_df['Sentiment'].to_numpy(), test_size=0.2, random_state=42)\n",
    "X_test, y_test = feature_test, test_df['Sentiment']\n"
   ]
  }
 ],
 "metadata": {
  "kernelspec": {
   "display_name": "Python 3",
   "language": "python",
   "name": "python3"
  },
  "language_info": {
   "codemirror_mode": {
    "name": "ipython",
    "version": 3
   },
   "file_extension": ".py",
   "mimetype": "text/x-python",
   "name": "python",
   "nbconvert_exporter": "python",
   "pygments_lexer": "ipython3",
   "version": "3.6.7"
  }
 },
 "nbformat": 4,
 "nbformat_minor": 4
}
