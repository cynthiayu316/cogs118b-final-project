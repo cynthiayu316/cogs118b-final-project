{
  "nbformat": 4,
  "nbformat_minor": 0,
  "metadata": {
    "kernelspec": {
      "display_name": "Python 3",
      "language": "python",
      "name": "python3"
    },
    "language_info": {
      "codemirror_mode": {
        "name": "ipython",
        "version": 3
      },
      "file_extension": ".py",
      "mimetype": "text/x-python",
      "name": "python",
      "nbconvert_exporter": "python",
      "pygments_lexer": "ipython3",
      "version": "3.7.3"
    },
    "colab": {
      "name": "cogs118b final project.ipynb",
      "provenance": [],
      "machine_shape": "hm"
    },
    "accelerator": "GPU"
  },
  "cells": [
    {
      "cell_type": "code",
      "metadata": {
        "colab": {
          "base_uri": "https://localhost:8080/"
        },
        "id": "cyNTQiVZ2GHN",
        "outputId": "0642705a-bd63-480b-fe13-1c8e0fd49c87"
      },
      "source": [
        "import pandas as pd\n",
        "import numpy as np\n",
        "from sklearn.model_selection import train_test_split\n",
        "import torch\n",
        "import random\n",
        "import nltk\n",
        "nltk.download('wordnet')\n",
        "nltk.download('stopwords')\n",
        "from nltk.corpus import stopwords\n",
        "stop_words = set(stopwords.words('english'))\n",
        "from nltk.tokenize import TreebankWordTokenizer\n",
        "from collections import defaultdict\n",
        "import nltk\n",
        "import string\n",
        "import re\n",
        "import seaborn as sns\n",
        "import pandas as pd\n",
        "import matplotlib.pyplot as plt\n",
        "import tensorflow as tf\n",
        "from torch.optim.lr_scheduler import StepLR\n",
        "%matplotlib inline"
      ],
      "execution_count": 1,
      "outputs": [
        {
          "output_type": "stream",
          "text": [
            "[nltk_data] Downloading package wordnet to /root/nltk_data...\n",
            "[nltk_data]   Package wordnet is already up-to-date!\n",
            "[nltk_data] Downloading package stopwords to /root/nltk_data...\n",
            "[nltk_data]   Package stopwords is already up-to-date!\n"
          ],
          "name": "stdout"
        }
      ]
    },
    {
      "cell_type": "code",
      "metadata": {
        "id": "G3Nt-DmogQaZ"
      },
      "source": [
        "#pip install tensorflow==2.4.0"
      ],
      "execution_count": 2,
      "outputs": []
    },
    {
      "cell_type": "code",
      "metadata": {
        "id": "f1gWkeWk2GHU"
      },
      "source": [
        "train_orig = pd.read_csv('Corona_NLP_train.csv', encoding = 'latin1')\n",
        "test_orig = pd.read_csv('Corona_NLP_test.csv',encoding = 'latin1')"
      ],
      "execution_count": 3,
      "outputs": []
    },
    {
      "cell_type": "markdown",
      "metadata": {
        "id": "tURTr1yM2GHV"
      },
      "source": [
        "# Preprocess start here!"
      ]
    },
    {
      "cell_type": "code",
      "metadata": {
        "id": "-FBHfg-C2GHV"
      },
      "source": [
        "train_orig=train_orig[['OriginalTweet','Sentiment']]\n",
        "test_orig=test_orig[['OriginalTweet','Sentiment']]"
      ],
      "execution_count": 4,
      "outputs": []
    },
    {
      "cell_type": "code",
      "metadata": {
        "id": "v45FfRl92GHV"
      },
      "source": [
        "#pd.isnull(train_orig).sum()\n",
        "#pd.isnull(test_orig).sum()"
      ],
      "execution_count": 5,
      "outputs": []
    },
    {
      "cell_type": "code",
      "metadata": {
        "id": "mEI3b5Ex2GHV"
      },
      "source": [
        "train_orig = train_orig.dropna()\n",
        "test_orig = test_orig.dropna()"
      ],
      "execution_count": 6,
      "outputs": []
    },
    {
      "cell_type": "code",
      "metadata": {
        "id": "VHCOdw7n2GHW"
      },
      "source": [
        "def remove_urls(input_text):\n",
        "    input_text=str(input_text)\n",
        "    result=re.sub(r'http.?://[^\\s]+[\\s]?', '', input_text)\n",
        "    return result\n",
        "\n",
        "def remove_nonASCII(string_):\n",
        "    printable = set(string.printable)\n",
        "    punctuation = set(string.punctuation)\n",
        "    #res=''.join(filter(lambda x: x not in printable, string_))\n",
        "    r = ''.join([c for c in string_ if (c in printable and c not in punctuation)])\n",
        "    return r\n",
        "\n",
        "def remove_speChar(string):\n",
        "    if '\\r' in string:\n",
        "        string=string.replace('\\r', ' ')\n",
        "    if  '\\n' in string:\n",
        "        string=string.replace('\\n', ' ')\n",
        "    return string\n",
        "\n",
        "def remove_stopwowrds(string):\n",
        "  r = ' '.join([c for c in string.split() if c not in stop_words])\n",
        "  return r"
      ],
      "execution_count": 7,
      "outputs": []
    },
    {
      "cell_type": "code",
      "metadata": {
        "id": "C3fzPP_l2GHW"
      },
      "source": [
        "train_orig['NewTweet']=train_orig.apply(lambda row: remove_urls(row['OriginalTweet']), axis=1)\n",
        "test_orig['NewTweet']=test_orig.apply(lambda row: remove_urls(row['OriginalTweet']), axis=1)"
      ],
      "execution_count": 8,
      "outputs": []
    },
    {
      "cell_type": "code",
      "metadata": {
        "colab": {
          "base_uri": "https://localhost:8080/",
          "height": 343
        },
        "id": "js38UZhd2GHW",
        "outputId": "7d97d3a0-1ce8-45ec-aa97-2173d7e7cd84"
      },
      "source": [
        "train_orig.head(10)"
      ],
      "execution_count": 9,
      "outputs": [
        {
          "output_type": "execute_result",
          "data": {
            "text/html": [
              "<div>\n",
              "<style scoped>\n",
              "    .dataframe tbody tr th:only-of-type {\n",
              "        vertical-align: middle;\n",
              "    }\n",
              "\n",
              "    .dataframe tbody tr th {\n",
              "        vertical-align: top;\n",
              "    }\n",
              "\n",
              "    .dataframe thead th {\n",
              "        text-align: right;\n",
              "    }\n",
              "</style>\n",
              "<table border=\"1\" class=\"dataframe\">\n",
              "  <thead>\n",
              "    <tr style=\"text-align: right;\">\n",
              "      <th></th>\n",
              "      <th>OriginalTweet</th>\n",
              "      <th>Sentiment</th>\n",
              "      <th>NewTweet</th>\n",
              "    </tr>\n",
              "  </thead>\n",
              "  <tbody>\n",
              "    <tr>\n",
              "      <th>0</th>\n",
              "      <td>@MeNyrbie @Phil_Gahan @Chrisitv https://t.co/i...</td>\n",
              "      <td>Neutral</td>\n",
              "      <td>@MeNyrbie @Phil_Gahan @Chrisitv and and</td>\n",
              "    </tr>\n",
              "    <tr>\n",
              "      <th>1</th>\n",
              "      <td>advice Talk to your neighbours family to excha...</td>\n",
              "      <td>Positive</td>\n",
              "      <td>advice Talk to your neighbours family to excha...</td>\n",
              "    </tr>\n",
              "    <tr>\n",
              "      <th>2</th>\n",
              "      <td>Coronavirus Australia: Woolworths to give elde...</td>\n",
              "      <td>Positive</td>\n",
              "      <td>Coronavirus Australia: Woolworths to give elde...</td>\n",
              "    </tr>\n",
              "    <tr>\n",
              "      <th>3</th>\n",
              "      <td>My food stock is not the only one which is emp...</td>\n",
              "      <td>Positive</td>\n",
              "      <td>My food stock is not the only one which is emp...</td>\n",
              "    </tr>\n",
              "    <tr>\n",
              "      <th>4</th>\n",
              "      <td>Me, ready to go at supermarket during the #COV...</td>\n",
              "      <td>Extremely Negative</td>\n",
              "      <td>Me, ready to go at supermarket during the #COV...</td>\n",
              "    </tr>\n",
              "    <tr>\n",
              "      <th>5</th>\n",
              "      <td>As news of the regionÂs first confirmed COVID...</td>\n",
              "      <td>Positive</td>\n",
              "      <td>As news of the regionÂs first confirmed COVID...</td>\n",
              "    </tr>\n",
              "    <tr>\n",
              "      <th>6</th>\n",
              "      <td>Cashier at grocery store was sharing his insig...</td>\n",
              "      <td>Positive</td>\n",
              "      <td>Cashier at grocery store was sharing his insig...</td>\n",
              "    </tr>\n",
              "    <tr>\n",
              "      <th>7</th>\n",
              "      <td>Was at the supermarket today. Didn't buy toile...</td>\n",
              "      <td>Neutral</td>\n",
              "      <td>Was at the supermarket today. Didn't buy toile...</td>\n",
              "    </tr>\n",
              "    <tr>\n",
              "      <th>8</th>\n",
              "      <td>Due to COVID-19 our retail store and classroom...</td>\n",
              "      <td>Positive</td>\n",
              "      <td>Due to COVID-19 our retail store and classroom...</td>\n",
              "    </tr>\n",
              "    <tr>\n",
              "      <th>9</th>\n",
              "      <td>For corona prevention,we should stop to buy th...</td>\n",
              "      <td>Negative</td>\n",
              "      <td>For corona prevention,we should stop to buy th...</td>\n",
              "    </tr>\n",
              "  </tbody>\n",
              "</table>\n",
              "</div>"
            ],
            "text/plain": [
              "                                       OriginalTweet  ...                                           NewTweet\n",
              "0  @MeNyrbie @Phil_Gahan @Chrisitv https://t.co/i...  ...           @MeNyrbie @Phil_Gahan @Chrisitv and and \n",
              "1  advice Talk to your neighbours family to excha...  ...  advice Talk to your neighbours family to excha...\n",
              "2  Coronavirus Australia: Woolworths to give elde...  ...  Coronavirus Australia: Woolworths to give elde...\n",
              "3  My food stock is not the only one which is emp...  ...  My food stock is not the only one which is emp...\n",
              "4  Me, ready to go at supermarket during the #COV...  ...  Me, ready to go at supermarket during the #COV...\n",
              "5  As news of the regionÂs first confirmed COVID...  ...  As news of the regionÂs first confirmed COVID...\n",
              "6  Cashier at grocery store was sharing his insig...  ...  Cashier at grocery store was sharing his insig...\n",
              "7  Was at the supermarket today. Didn't buy toile...  ...  Was at the supermarket today. Didn't buy toile...\n",
              "8  Due to COVID-19 our retail store and classroom...  ...  Due to COVID-19 our retail store and classroom...\n",
              "9  For corona prevention,we should stop to buy th...  ...  For corona prevention,we should stop to buy th...\n",
              "\n",
              "[10 rows x 3 columns]"
            ]
          },
          "metadata": {
            "tags": []
          },
          "execution_count": 9
        }
      ]
    },
    {
      "cell_type": "code",
      "metadata": {
        "id": "Z4xHw8G42GHX"
      },
      "source": [
        "train_orig['NewTweet']=train_orig.apply(lambda row: remove_nonASCII(row['NewTweet']), axis=1)\n",
        "test_orig['NewTweet']=test_orig.apply(lambda row: remove_nonASCII(row['NewTweet']), axis=1)"
      ],
      "execution_count": 10,
      "outputs": []
    },
    {
      "cell_type": "code",
      "metadata": {
        "colab": {
          "base_uri": "https://localhost:8080/",
          "height": 195
        },
        "id": "VakdtxUV2GHX",
        "outputId": "856866cb-5fed-404a-d094-5b1a746c40f6"
      },
      "source": [
        "train_orig.head()"
      ],
      "execution_count": 11,
      "outputs": [
        {
          "output_type": "execute_result",
          "data": {
            "text/html": [
              "<div>\n",
              "<style scoped>\n",
              "    .dataframe tbody tr th:only-of-type {\n",
              "        vertical-align: middle;\n",
              "    }\n",
              "\n",
              "    .dataframe tbody tr th {\n",
              "        vertical-align: top;\n",
              "    }\n",
              "\n",
              "    .dataframe thead th {\n",
              "        text-align: right;\n",
              "    }\n",
              "</style>\n",
              "<table border=\"1\" class=\"dataframe\">\n",
              "  <thead>\n",
              "    <tr style=\"text-align: right;\">\n",
              "      <th></th>\n",
              "      <th>OriginalTweet</th>\n",
              "      <th>Sentiment</th>\n",
              "      <th>NewTweet</th>\n",
              "    </tr>\n",
              "  </thead>\n",
              "  <tbody>\n",
              "    <tr>\n",
              "      <th>0</th>\n",
              "      <td>@MeNyrbie @Phil_Gahan @Chrisitv https://t.co/i...</td>\n",
              "      <td>Neutral</td>\n",
              "      <td>MeNyrbie PhilGahan Chrisitv and and</td>\n",
              "    </tr>\n",
              "    <tr>\n",
              "      <th>1</th>\n",
              "      <td>advice Talk to your neighbours family to excha...</td>\n",
              "      <td>Positive</td>\n",
              "      <td>advice Talk to your neighbours family to excha...</td>\n",
              "    </tr>\n",
              "    <tr>\n",
              "      <th>2</th>\n",
              "      <td>Coronavirus Australia: Woolworths to give elde...</td>\n",
              "      <td>Positive</td>\n",
              "      <td>Coronavirus Australia Woolworths to give elder...</td>\n",
              "    </tr>\n",
              "    <tr>\n",
              "      <th>3</th>\n",
              "      <td>My food stock is not the only one which is emp...</td>\n",
              "      <td>Positive</td>\n",
              "      <td>My food stock is not the only one which is emp...</td>\n",
              "    </tr>\n",
              "    <tr>\n",
              "      <th>4</th>\n",
              "      <td>Me, ready to go at supermarket during the #COV...</td>\n",
              "      <td>Extremely Negative</td>\n",
              "      <td>Me ready to go at supermarket during the COVID...</td>\n",
              "    </tr>\n",
              "  </tbody>\n",
              "</table>\n",
              "</div>"
            ],
            "text/plain": [
              "                                       OriginalTweet  ...                                           NewTweet\n",
              "0  @MeNyrbie @Phil_Gahan @Chrisitv https://t.co/i...  ...               MeNyrbie PhilGahan Chrisitv and and \n",
              "1  advice Talk to your neighbours family to excha...  ...  advice Talk to your neighbours family to excha...\n",
              "2  Coronavirus Australia: Woolworths to give elde...  ...  Coronavirus Australia Woolworths to give elder...\n",
              "3  My food stock is not the only one which is emp...  ...  My food stock is not the only one which is emp...\n",
              "4  Me, ready to go at supermarket during the #COV...  ...  Me ready to go at supermarket during the COVID...\n",
              "\n",
              "[5 rows x 3 columns]"
            ]
          },
          "metadata": {
            "tags": []
          },
          "execution_count": 11
        }
      ]
    },
    {
      "cell_type": "code",
      "metadata": {
        "id": "zG1KBuNUodII"
      },
      "source": [
        "#train_orig['NewTweet']=train_orig.apply(lambda row: remove_stopwowrds(row['NewTweet']), axis=1)\n",
        "#test_orig['NewTweet']=test_orig.apply(lambda row: remove_stopwowrds(row['NewTweet']), axis=1)"
      ],
      "execution_count": 12,
      "outputs": []
    },
    {
      "cell_type": "code",
      "metadata": {
        "colab": {
          "base_uri": "https://localhost:8080/",
          "height": 195
        },
        "id": "yhDe3gLqoso-",
        "outputId": "e6183d7a-7281-4ce6-c763-7794d114ca52"
      },
      "source": [
        "train_orig.head()"
      ],
      "execution_count": 13,
      "outputs": [
        {
          "output_type": "execute_result",
          "data": {
            "text/html": [
              "<div>\n",
              "<style scoped>\n",
              "    .dataframe tbody tr th:only-of-type {\n",
              "        vertical-align: middle;\n",
              "    }\n",
              "\n",
              "    .dataframe tbody tr th {\n",
              "        vertical-align: top;\n",
              "    }\n",
              "\n",
              "    .dataframe thead th {\n",
              "        text-align: right;\n",
              "    }\n",
              "</style>\n",
              "<table border=\"1\" class=\"dataframe\">\n",
              "  <thead>\n",
              "    <tr style=\"text-align: right;\">\n",
              "      <th></th>\n",
              "      <th>OriginalTweet</th>\n",
              "      <th>Sentiment</th>\n",
              "      <th>NewTweet</th>\n",
              "    </tr>\n",
              "  </thead>\n",
              "  <tbody>\n",
              "    <tr>\n",
              "      <th>0</th>\n",
              "      <td>@MeNyrbie @Phil_Gahan @Chrisitv https://t.co/i...</td>\n",
              "      <td>Neutral</td>\n",
              "      <td>MeNyrbie PhilGahan Chrisitv and and</td>\n",
              "    </tr>\n",
              "    <tr>\n",
              "      <th>1</th>\n",
              "      <td>advice Talk to your neighbours family to excha...</td>\n",
              "      <td>Positive</td>\n",
              "      <td>advice Talk to your neighbours family to excha...</td>\n",
              "    </tr>\n",
              "    <tr>\n",
              "      <th>2</th>\n",
              "      <td>Coronavirus Australia: Woolworths to give elde...</td>\n",
              "      <td>Positive</td>\n",
              "      <td>Coronavirus Australia Woolworths to give elder...</td>\n",
              "    </tr>\n",
              "    <tr>\n",
              "      <th>3</th>\n",
              "      <td>My food stock is not the only one which is emp...</td>\n",
              "      <td>Positive</td>\n",
              "      <td>My food stock is not the only one which is emp...</td>\n",
              "    </tr>\n",
              "    <tr>\n",
              "      <th>4</th>\n",
              "      <td>Me, ready to go at supermarket during the #COV...</td>\n",
              "      <td>Extremely Negative</td>\n",
              "      <td>Me ready to go at supermarket during the COVID...</td>\n",
              "    </tr>\n",
              "  </tbody>\n",
              "</table>\n",
              "</div>"
            ],
            "text/plain": [
              "                                       OriginalTweet  ...                                           NewTweet\n",
              "0  @MeNyrbie @Phil_Gahan @Chrisitv https://t.co/i...  ...               MeNyrbie PhilGahan Chrisitv and and \n",
              "1  advice Talk to your neighbours family to excha...  ...  advice Talk to your neighbours family to excha...\n",
              "2  Coronavirus Australia: Woolworths to give elde...  ...  Coronavirus Australia Woolworths to give elder...\n",
              "3  My food stock is not the only one which is emp...  ...  My food stock is not the only one which is emp...\n",
              "4  Me, ready to go at supermarket during the #COV...  ...  Me ready to go at supermarket during the COVID...\n",
              "\n",
              "[5 rows x 3 columns]"
            ]
          },
          "metadata": {
            "tags": []
          },
          "execution_count": 13
        }
      ]
    },
    {
      "cell_type": "code",
      "metadata": {
        "id": "qi4OBE-42GHX"
      },
      "source": [
        "train_orig['NewTweet'] = train_orig['NewTweet'].str.lower()\n",
        "train_orig['NewTweet']=train_orig.apply(lambda row: remove_speChar(row['NewTweet']), axis=1)\n",
        "train_ls=train_orig['NewTweet'].tolist()\n",
        "train = train_orig\n",
        "\n",
        "test_orig['NewTweet'] = test_orig['NewTweet'].str.lower()\n",
        "test_orig['NewTweet']=test_orig.apply(lambda row: remove_speChar(row['NewTweet']), axis=1)\n",
        "test_ls=test_orig['NewTweet'].tolist()\n",
        "test = test_orig"
      ],
      "execution_count": 14,
      "outputs": []
    },
    {
      "cell_type": "markdown",
      "metadata": {
        "id": "Qj0QZfIr2GHY"
      },
      "source": [
        "# change 5 categories to 3; change \"netural\":0, \"positive\":1,\"negative\":2"
      ]
    },
    {
      "cell_type": "code",
      "metadata": {
        "id": "E5wDJ6s72GHY"
      },
      "source": [
        "train['Sentiment'].unique()\n",
        "#change five categories to three \n",
        "train_df = train\n",
        "test_df = test"
      ],
      "execution_count": 15,
      "outputs": []
    },
    {
      "cell_type": "code",
      "metadata": {
        "id": "pUzaw5x-2GHY"
      },
      "source": [
        "def change_sen(sentiment):\n",
        "    if sentiment == \"Extremely Positive\":\n",
        "        return 'positive'\n",
        "    elif sentiment == \"Extremely Negative\":\n",
        "        return 'negative'\n",
        "    elif sentiment == \"Positive\":\n",
        "        return 'positive'\n",
        "    elif sentiment == \"Negative\":\n",
        "        return 'negative'\n",
        "    else:\n",
        "        return 'netural'"
      ],
      "execution_count": 16,
      "outputs": []
    },
    {
      "cell_type": "code",
      "metadata": {
        "colab": {
          "base_uri": "https://localhost:8080/",
          "height": 350
        },
        "id": "67VKS_qv2GHY",
        "outputId": "928bfeec-60ac-49d3-b976-f243476b36e0"
      },
      "source": [
        "sns.countplot(train['Sentiment'])"
      ],
      "execution_count": 17,
      "outputs": [
        {
          "output_type": "stream",
          "text": [
            "/usr/local/lib/python3.6/dist-packages/seaborn/_decorators.py:43: FutureWarning: Pass the following variable as a keyword arg: x. From version 0.12, the only valid positional argument will be `data`, and passing other arguments without an explicit keyword will result in an error or misinterpretation.\n",
            "  FutureWarning\n"
          ],
          "name": "stderr"
        },
        {
          "output_type": "execute_result",
          "data": {
            "text/plain": [
              "<matplotlib.axes._subplots.AxesSubplot at 0x7fa7512260f0>"
            ]
          },
          "metadata": {
            "tags": []
          },
          "execution_count": 17
        },
        {
          "output_type": "display_data",
          "data": {
            "image/png": "[encoded data removed]",
            "text/plain": [
              "<Figure size 432x288 with 1 Axes>"
            ]
          },
          "metadata": {
            "tags": [],
            "needs_background": "light"
          }
        }
      ]
    },
    {
      "cell_type": "code",
      "metadata": {
        "id": "qVJ0skDx2GHZ"
      },
      "source": [
        "train_df['Sentiment'] = train_df['Sentiment'].apply(lambda x: change_sen(x))\n",
        "test_df['Sentiment'] = test_df['Sentiment'].apply(lambda x: change_sen(x))"
      ],
      "execution_count": 18,
      "outputs": []
    },
    {
      "cell_type": "code",
      "metadata": {
        "colab": {
          "base_uri": "https://localhost:8080/",
          "height": 350
        },
        "id": "dyoTwp872GHZ",
        "outputId": "91e624d8-8990-4bee-8ded-7ba7b3618f24"
      },
      "source": [
        "sns.countplot(train_df['Sentiment'])"
      ],
      "execution_count": 19,
      "outputs": [
        {
          "output_type": "stream",
          "text": [
            "/usr/local/lib/python3.6/dist-packages/seaborn/_decorators.py:43: FutureWarning: Pass the following variable as a keyword arg: x. From version 0.12, the only valid positional argument will be `data`, and passing other arguments without an explicit keyword will result in an error or misinterpretation.\n",
            "  FutureWarning\n"
          ],
          "name": "stderr"
        },
        {
          "output_type": "execute_result",
          "data": {
            "text/plain": [
              "<matplotlib.axes._subplots.AxesSubplot at 0x7fa74d719518>"
            ]
          },
          "metadata": {
            "tags": []
          },
          "execution_count": 19
        },
        {
          "output_type": "display_data",
          "data": {
            "image/png": "[encoded data removed]",
            "text/plain": [
              "<Figure size 432x288 with 1 Axes>"
            ]
          },
          "metadata": {
            "tags": [],
            "needs_background": "light"
          }
        }
      ]
    },
    {
      "cell_type": "code",
      "metadata": {
        "id": "3LHfkIHC2GHZ"
      },
      "source": [
        "label = {\"netural\":0, \"positive\":1,\"negative\":2}\n",
        "train_df['Sentiment'] = train_df['Sentiment'].map(label)\n",
        "test_df['Sentiment']  = test_df['Sentiment'].map(label)"
      ],
      "execution_count": 20,
      "outputs": []
    },
    {
      "cell_type": "markdown",
      "metadata": {
        "id": "ovSIsgJl2GHZ"
      },
      "source": [
        "# tokenization & word count & vocab_to_int"
      ]
    },
    {
      "cell_type": "code",
      "metadata": {
        "id": "2lMshi0j2GHZ"
      },
      "source": [
        "# count frequency of words in counts; \n",
        "#create word dict:word_to_int based on counts \n",
        "def word_dict(ls, type_):\n",
        "    wordCount = defaultdict(int)\n",
        "    punctuation = set(string.punctuation)\n",
        "    tokenizer = TreebankWordTokenizer()\n",
        "    for d in ls:\n",
        "        #d = tokenizer.tokenize(d)\n",
        "        #d = [token for token in d if token not in stop_words]\n",
        "        for w in d.split():\n",
        "          #if w not in stop_words:\n",
        "            wordCount[w] += 1\n",
        "    #count is counting the word frequency and sort from most frequent to least\n",
        "    counts = [(wordCount[w], w) for w in wordCount]\n",
        "    counts.sort()\n",
        "    counts.reverse()\n",
        "    words_list = [x[1] for x in counts]\n",
        "    words = set(words_list)\n",
        "    vocab_to_int={w:i+1 for i,(c,w) in enumerate(counts)}\n",
        "    if type_ =='v':\n",
        "        return vocab_to_int\n",
        "    else:\n",
        "        return counts"
      ],
      "execution_count": 21,
      "outputs": []
    },
    {
      "cell_type": "code",
      "metadata": {
        "id": "icIpqLvt2GHa"
      },
      "source": [
        "train_c = word_dict(train_df['NewTweet'], 'c')\n",
        "train_vocab_to_int = word_dict(train_df['NewTweet'], 'v')\n",
        "\n",
        "test_c = word_dict(test_df['NewTweet'], 'c')\n",
        "test_vocab_to_int = word_dict(test_df['NewTweet'], 'v')"
      ],
      "execution_count": 22,
      "outputs": []
    },
    {
      "cell_type": "code",
      "metadata": {
        "colab": {
          "base_uri": "https://localhost:8080/"
        },
        "id": "LQDhYARP2j3c",
        "outputId": "5a0afbad-a500-4d20-bb83-fe339fd41875"
      },
      "source": [
        "train_c[:10]"
      ],
      "execution_count": 23,
      "outputs": [
        {
          "output_type": "execute_result",
          "data": {
            "text/plain": [
              "[(44785, 'the'),\n",
              " (38339, 'to'),\n",
              " (23976, 'and'),\n",
              " (21512, 'of'),\n",
              " (19325, 'a'),\n",
              " (19127, 'in'),\n",
              " (17995, 'coronavirus'),\n",
              " (16836, 'covid19'),\n",
              " (14041, 'for'),\n",
              " (12246, 'is')]"
            ]
          },
          "metadata": {
            "tags": []
          },
          "execution_count": 23
        }
      ]
    },
    {
      "cell_type": "code",
      "metadata": {
        "colab": {
          "base_uri": "https://localhost:8080/"
        },
        "id": "BCoGfqt23fSh",
        "outputId": "d2d7a7bb-fa52-4889-a40f-258c0aa422b0"
      },
      "source": [
        "vocab_to_int_list = [(train_vocab_to_int[w], w) for w in train_vocab_to_int]\n",
        "vocab_to_int_list[:10]"
      ],
      "execution_count": 24,
      "outputs": [
        {
          "output_type": "execute_result",
          "data": {
            "text/plain": [
              "[(1, 'the'),\n",
              " (2, 'to'),\n",
              " (3, 'and'),\n",
              " (4, 'of'),\n",
              " (5, 'a'),\n",
              " (6, 'in'),\n",
              " (7, 'coronavirus'),\n",
              " (8, 'covid19'),\n",
              " (9, 'for'),\n",
              " (10, 'is')]"
            ]
          },
          "metadata": {
            "tags": []
          },
          "execution_count": 24
        }
      ]
    },
    {
      "cell_type": "code",
      "metadata": {
        "id": "3-rmimgj2GHa"
      },
      "source": [
        "#tweet int: list contains list of sentence in which words convert to numerical values\n",
        "def w_to_num(vocab_to_int,ls):\n",
        "    tweet_int = []\n",
        "    for review in ls:\n",
        "        cur_ls=[]\n",
        "        for word in review.split():\n",
        "            if word not in vocab_to_int.keys():\n",
        "                cur_ls.append(0)\n",
        "            else:\n",
        "                cur_ls.append(vocab_to_int[word])\n",
        "        tweet_int.append(cur_ls)\n",
        "    return tweet_int"
      ],
      "execution_count": 25,
      "outputs": []
    },
    {
      "cell_type": "code",
      "metadata": {
        "id": "cITAeUzu2GHa"
      },
      "source": [
        "train_int = w_to_num(train_vocab_to_int,train_ls)\n",
        "\n",
        "test_int = w_to_num(train_vocab_to_int,test_ls)"
      ],
      "execution_count": 26,
      "outputs": []
    },
    {
      "cell_type": "code",
      "metadata": {
        "colab": {
          "base_uri": "https://localhost:8080/"
        },
        "id": "Mep8nEO4_eUI",
        "outputId": "4dbe46a2-23d6-4be8-9b81-723a1cd53dc7"
      },
      "source": [
        "train_int[:2]"
      ],
      "execution_count": 27,
      "outputs": [
        {
          "output_type": "execute_result",
          "data": {
            "text/plain": [
              "[[39630, 35439, 15896, 3, 3],\n",
              " [516,\n",
              "  907,\n",
              "  2,\n",
              "  33,\n",
              "  2598,\n",
              "  270,\n",
              "  2,\n",
              "  2958,\n",
              "  902,\n",
              "  1275,\n",
              "  1130,\n",
              "  455,\n",
              "  397,\n",
              "  21,\n",
              "  902,\n",
              "  1275,\n",
              "  4,\n",
              "  2598,\n",
              "  1228,\n",
              "  4122,\n",
              "  3719,\n",
              "  5095,\n",
              "  499,\n",
              "  42,\n",
              "  51,\n",
              "  48,\n",
              "  2458,\n",
              "  49,\n",
              "  14229,\n",
              "  3377,\n",
              "  193,\n",
              "  4,\n",
              "  1080,\n",
              "  3510,\n",
              "  50,\n",
              "  34,\n",
              "  114,\n",
              "  240]]"
            ]
          },
          "metadata": {
            "tags": []
          },
          "execution_count": 27
        }
      ]
    },
    {
      "cell_type": "markdown",
      "metadata": {
        "id": "Daz4QrlA2GHb"
      },
      "source": [
        "tweet_Int<- x_train; sentiment <- train_df[..]"
      ]
    },
    {
      "cell_type": "code",
      "metadata": {
        "id": "7xUk7ABms5Ho"
      },
      "source": [
        ""
      ],
      "execution_count": 27,
      "outputs": []
    },
    {
      "cell_type": "code",
      "metadata": {
        "id": "sCiEuV6Qs0v5",
        "colab": {
          "base_uri": "https://localhost:8080/",
          "height": 69
        },
        "outputId": "b0cc4847-23c9-4233-bede-0ce6b39e59e8"
      },
      "source": [
        "'''\n",
        "from tensorflow.keras.preprocessing.text import Tokenizer\n",
        "from tensorflow.keras.preprocessing.sequence import pad_sequences\n",
        "tokenizer = Tokenizer()\n",
        "tokenizer.fit_on_texts(train_df['NewTweet'])\n",
        "vocab_length = len(tokenizer.word_index) + 1\n",
        "\n",
        "x_train = tokenizer.texts_to_sequences(train_df['NewTweet'])\n",
        "x_test = tokenizer.texts_to_sequences(test_df['NewTweet'])\n",
        "\n",
        "x_train = pad_sequences(x_train, maxlen=60, padding='post')\n",
        "x_test = pad_sequences(x_test, maxlen=60, padding='post')\n",
        "'''"
      ],
      "execution_count": 28,
      "outputs": [
        {
          "output_type": "execute_result",
          "data": {
            "application/vnd.google.colaboratory.intrinsic+json": {
              "type": "string"
            },
            "text/plain": [
              "\"\\nfrom tensorflow.keras.preprocessing.text import Tokenizer\\nfrom tensorflow.keras.preprocessing.sequence import pad_sequences\\ntokenizer = Tokenizer()\\ntokenizer.fit_on_texts(train_df['NewTweet'])\\nvocab_length = len(tokenizer.word_index) + 1\\n\\nx_train = tokenizer.texts_to_sequences(train_df['NewTweet'])\\nx_test = tokenizer.texts_to_sequences(test_df['NewTweet'])\\n\\nx_train = pad_sequences(x_train, maxlen=60, padding='post')\\nx_test = pad_sequences(x_test, maxlen=60, padding='post')\\n\""
            ]
          },
          "metadata": {
            "tags": []
          },
          "execution_count": 28
        }
      ]
    },
    {
      "cell_type": "code",
      "metadata": {
        "id": "ebRdFQWvEDyR"
      },
      "source": [
        "\n",
        "#test_df['NewTweet'][0]"
      ],
      "execution_count": 29,
      "outputs": []
    },
    {
      "cell_type": "code",
      "metadata": {
        "colab": {
          "base_uri": "https://localhost:8080/",
          "height": 86
        },
        "id": "GQ2s3iJotjsb",
        "outputId": "77c88a36-c6ce-447f-c5bb-14a5670c30e2"
      },
      "source": [
        "'''\n",
        "import keras\n",
        "from keras.models import Sequential\n",
        "import tensorflow as tf\n",
        "model = tf.keras.Sequential([\n",
        "    tf.keras.layers.Embedding(vocab_length, 16, input_length=60),\n",
        "    tf.keras.layers.Bidirectional(tf.keras.layers.LSTM(256, return_sequences=True)),\n",
        "    tf.keras.layers.GlobalAveragePooling1D(),\n",
        "    tf.keras.layers.Dropout(0.3),\n",
        "    tf.keras.layers.Dense(64, activation='relu'),\n",
        "    tf.keras.layers.Dropout(0.3),\n",
        "    tf.keras.layers.Dense(3, activation='softmax')\n",
        "])\n",
        "\n",
        "model.compile(loss='categorical_crossentropy',optimizer=\"adam\",metrics=['accuracy'])\n",
        "'''"
      ],
      "execution_count": 30,
      "outputs": [
        {
          "output_type": "execute_result",
          "data": {
            "application/vnd.google.colaboratory.intrinsic+json": {
              "type": "string"
            },
            "text/plain": [
              "'\\nimport keras\\nfrom keras.models import Sequential\\nimport tensorflow as tf\\nmodel = tf.keras.Sequential([\\n    tf.keras.layers.Embedding(vocab_length, 16, input_length=60),\\n    tf.keras.layers.Bidirectional(tf.keras.layers.LSTM(256, return_sequences=True)),\\n    tf.keras.layers.GlobalAveragePooling1D(),\\n    tf.keras.layers.Dropout(0.3),\\n    tf.keras.layers.Dense(64, activation=\\'relu\\'),\\n    tf.keras.layers.Dropout(0.3),\\n    tf.keras.layers.Dense(3, activation=\\'softmax\\')\\n])\\n\\nmodel.compile(loss=\\'categorical_crossentropy\\',optimizer=\"adam\",metrics=[\\'accuracy\\'])\\n'"
            ]
          },
          "metadata": {
            "tags": []
          },
          "execution_count": 30
        }
      ]
    },
    {
      "cell_type": "code",
      "metadata": {
        "id": "cnDF8_xrulNr",
        "colab": {
          "base_uri": "https://localhost:8080/",
          "height": 35
        },
        "outputId": "772502af-c766-452e-9bd8-9890f5639b5c"
      },
      "source": [
        "'''\n",
        "from keras.utils import to_categorical\n",
        "\n",
        "y_train = to_categorical(train_df['Sentiment'], 3)\n",
        "y_test = to_categorical(test_df['Sentiment'], 3)\n",
        "'''"
      ],
      "execution_count": 31,
      "outputs": [
        {
          "output_type": "execute_result",
          "data": {
            "application/vnd.google.colaboratory.intrinsic+json": {
              "type": "string"
            },
            "text/plain": [
              "\"\\nfrom keras.utils import to_categorical\\n\\ny_train = to_categorical(train_df['Sentiment'], 3)\\ny_test = to_categorical(test_df['Sentiment'], 3)\\n\""
            ]
          },
          "metadata": {
            "tags": []
          },
          "execution_count": 31
        }
      ]
    },
    {
      "cell_type": "code",
      "metadata": {
        "id": "Hg8sY89WvERO",
        "colab": {
          "base_uri": "https://localhost:8080/",
          "height": 35
        },
        "outputId": "5561bf52-5404-4837-8ea3-f7b84d1b7852"
      },
      "source": [
        "'''\n",
        "num_epochs = 10\n",
        "history = model.fit(x_train, y_train, epochs=num_epochs, \n",
        "                    validation_data=(x_test, y_test))\n",
        "'''"
      ],
      "execution_count": 32,
      "outputs": [
        {
          "output_type": "execute_result",
          "data": {
            "application/vnd.google.colaboratory.intrinsic+json": {
              "type": "string"
            },
            "text/plain": [
              "'\\nnum_epochs = 10\\nhistory = model.fit(x_train, y_train, epochs=num_epochs, \\n                    validation_data=(x_test, y_test))\\n'"
            ]
          },
          "metadata": {
            "tags": []
          },
          "execution_count": 32
        }
      ]
    },
    {
      "cell_type": "code",
      "metadata": {
        "id": "fFupGMok-LUo"
      },
      "source": [
        "#print(model.summary())"
      ],
      "execution_count": 33,
      "outputs": []
    },
    {
      "cell_type": "markdown",
      "metadata": {
        "id": "wfbXLcts2GHb"
      },
      "source": [
        "## Plot Tweet length distribution"
      ]
    },
    {
      "cell_type": "code",
      "metadata": {
        "id": "QPtnz7G2KRoD"
      },
      "source": [
        "#accr = model.evaluate(X_test,y_test)\n",
        "#print(accr)"
      ],
      "execution_count": 34,
      "outputs": []
    },
    {
      "cell_type": "code",
      "metadata": {
        "id": "_RCD9JOR2GHb"
      },
      "source": [
        "def plot_tweet(ls,string):\n",
        "    reviews_len = [len(x) for x in ls]\n",
        "    pd.Series(reviews_len).hist()\n",
        "    plt.title(string + ' tweet length distribution: word length in tweet VS frequency ')\n",
        "    plt.xlabel('legnth of word in each tweet')\n",
        "    plt.ylabel('frequeccy')\n",
        "    plt.show()\n",
        "    print(pd.Series(reviews_len).describe())"
      ],
      "execution_count": 35,
      "outputs": []
    },
    {
      "cell_type": "code",
      "metadata": {
        "id": "hd3orzfv2GHb",
        "colab": {
          "base_uri": "https://localhost:8080/",
          "height": 446
        },
        "outputId": "8da9301a-f436-45a6-c3df-0f6db76d8bf8"
      },
      "source": [
        "plot_tweet(train_int,'train')"
      ],
      "execution_count": 36,
      "outputs": [
        {
          "output_type": "display_data",
          "data": {
            "image/png": "[encoded data removed]",
            "text/plain": [
              "<Figure size 432x288 with 1 Axes>"
            ]
          },
          "metadata": {
            "tags": [],
            "needs_background": "light"
          }
        },
        {
          "output_type": "stream",
          "text": [
            "count    41157.000000\n",
            "mean        29.613674\n",
            "std         11.704519\n",
            "min          0.000000\n",
            "25%         20.000000\n",
            "50%         31.000000\n",
            "75%         39.000000\n",
            "max         64.000000\n",
            "dtype: float64\n"
          ],
          "name": "stdout"
        }
      ]
    },
    {
      "cell_type": "code",
      "metadata": {
        "id": "vY1XolVt2GHc",
        "colab": {
          "base_uri": "https://localhost:8080/",
          "height": 446
        },
        "outputId": "36426d77-0119-47f8-a387-c3d4d6c51f5b"
      },
      "source": [
        "plot_tweet(test_int,'test')"
      ],
      "execution_count": 37,
      "outputs": [
        {
          "output_type": "display_data",
          "data": {
            "image/png": "[encoded data removed]",
            "text/plain": [
              "<Figure size 432x288 with 1 Axes>"
            ]
          },
          "metadata": {
            "tags": [],
            "needs_background": "light"
          }
        },
        {
          "output_type": "stream",
          "text": [
            "count    3798.000000\n",
            "mean       32.086888\n",
            "std        11.840029\n",
            "min         2.000000\n",
            "25%        23.000000\n",
            "50%        33.000000\n",
            "75%        42.000000\n",
            "max        62.000000\n",
            "dtype: float64\n"
          ],
          "name": "stdout"
        }
      ]
    },
    {
      "cell_type": "markdown",
      "metadata": {
        "id": "X97qQg1q2GHd"
      },
      "source": [
        "# Padding / Truncating data"
      ]
    },
    {
      "cell_type": "code",
      "metadata": {
        "id": "stCvkMZi2GHd"
      },
      "source": [
        "def pad_features(reviews_int, seq_length):\n",
        "    ''' Return features of review_ints, where each review is padded with 0's or truncated to the input seq_length.\n",
        "    '''\n",
        "    features = np.zeros((len(reviews_int), seq_length), dtype = int)\n",
        "    \n",
        "    for i, review in enumerate(reviews_int):\n",
        "        review_len = len(review)\n",
        "        \n",
        "        if review_len <= seq_length:\n",
        "            zeroes = list(np.zeros(seq_length-review_len))\n",
        "            new = review + zeroes\n",
        "        elif review_len > seq_length:\n",
        "            new = review[0:seq_length]\n",
        "        \n",
        "        features[i,:] = np.array(new)\n",
        "    \n",
        "    return features"
      ],
      "execution_count": 38,
      "outputs": []
    },
    {
      "cell_type": "code",
      "metadata": {
        "id": "wa0uijPU2GHe"
      },
      "source": [
        "#self define seq_length as 31(same as median, close to mean) \n",
        "THRESHOLD = 60\n",
        "feature_train = pad_features(train_int,THRESHOLD)\n",
        "#print(feature_ls)\n",
        "feature_test = pad_features(test_int,THRESHOLD)\n",
        "#we set the THRESHOLD so that all tweet length have the same length\n",
        "#for tweet shorter than length set them to zero;\n",
        "#for those longer: cut them to threshold"
      ],
      "execution_count": 39,
      "outputs": []
    },
    {
      "cell_type": "code",
      "metadata": {
        "colab": {
          "base_uri": "https://localhost:8080/"
        },
        "id": "8BMLYPiSmNeC",
        "outputId": "694b56b2-a0c2-4fc8-9258-8862c8aecbec"
      },
      "source": [
        "feature_train[0]"
      ],
      "execution_count": 40,
      "outputs": [
        {
          "output_type": "execute_result",
          "data": {
            "text/plain": [
              "array([39630, 35439, 15896,     3,     3,     0,     0,     0,     0,\n",
              "           0,     0,     0,     0,     0,     0,     0,     0,     0,\n",
              "           0,     0,     0,     0,     0,     0,     0,     0,     0,\n",
              "           0,     0,     0,     0,     0,     0,     0,     0,     0,\n",
              "           0,     0,     0,     0,     0,     0,     0,     0,     0,\n",
              "           0,     0,     0,     0,     0,     0,     0,     0,     0,\n",
              "           0,     0,     0,     0,     0,     0])"
            ]
          },
          "metadata": {
            "tags": []
          },
          "execution_count": 40
        }
      ]
    },
    {
      "cell_type": "code",
      "metadata": {
        "id": "l6XU2j9VlrTw"
      },
      "source": [
        "#pd.DataFrame(feature_train).to_csv(\"x_train.csv\")"
      ],
      "execution_count": 41,
      "outputs": []
    },
    {
      "cell_type": "code",
      "metadata": {
        "id": "FmQQxRu-mEWN"
      },
      "source": [
        "#pd.DataFrame(feature_test).to_csv(\"x_test.csv\")"
      ],
      "execution_count": 42,
      "outputs": []
    },
    {
      "cell_type": "markdown",
      "metadata": {
        "id": "Bw_MCKIR2GHe"
      },
      "source": [
        "# split train & validation"
      ]
    },
    {
      "cell_type": "code",
      "metadata": {
        "id": "2hUFfd4g2GHf"
      },
      "source": [
        "#x_test[0]"
      ],
      "execution_count": 43,
      "outputs": []
    },
    {
      "cell_type": "code",
      "metadata": {
        "id": "EAvmlMyEzxJL"
      },
      "source": [
        "#X_test[0]"
      ],
      "execution_count": 44,
      "outputs": []
    },
    {
      "cell_type": "code",
      "metadata": {
        "colab": {
          "base_uri": "https://localhost:8080/",
          "height": 35
        },
        "id": "c2_hEOJr6EST",
        "outputId": "66fb1d8c-3709-458b-9589-0a75af454db1"
      },
      "source": [
        "test_df['NewTweet'][0]"
      ],
      "execution_count": 45,
      "outputs": [
        {
          "output_type": "execute_result",
          "data": {
            "application/vnd.google.colaboratory.intrinsic+json": {
              "type": "string"
            },
            "text/plain": [
              "'trending new yorkers encounter empty supermarket shelves pictured wegmans in brooklyn soldout online grocers foodkick maxdelivery as coronavirusfearing shoppers stock up '"
            ]
          },
          "metadata": {
            "tags": []
          },
          "execution_count": 45
        }
      ]
    },
    {
      "cell_type": "code",
      "metadata": {
        "id": "e0tox9gi2GHf"
      },
      "source": [
        "#split train and validation data (80,20)\n",
        "X_train, X_val, y_train, y_val = train_test_split(feature_train, train_df['Sentiment'].to_numpy(), test_size=0.2, random_state=42)\n",
        "X_test, y_test = feature_test, test_df['Sentiment'].to_numpy()\n"
      ],
      "execution_count": 46,
      "outputs": []
    },
    {
      "cell_type": "code",
      "metadata": {
        "id": "6jtE7mb4hreR"
      },
      "source": [
        "#vocab_size = len(train_vocab_to_int)+1"
      ],
      "execution_count": 47,
      "outputs": []
    },
    {
      "cell_type": "code",
      "metadata": {
        "colab": {
          "base_uri": "https://localhost:8080/"
        },
        "id": "u8y56oyhbpPN",
        "outputId": "5708a352-31f6-42de-bb15-4242d1297eb4"
      },
      "source": [
        "X_train[10]"
      ],
      "execution_count": 48,
      "outputs": [
        {
          "output_type": "execute_result",
          "data": {
            "text/plain": [
              "array([    1,   407,   950,  1643,  6659,    17,   425,   596,     1,\n",
              "        2854,  1390,     3,     1,   391,     6,    93,    16,    15,\n",
              "          73,   612,    44,     1, 56741,   119,    96, 10996, 13089,\n",
              "           0,     0,     0,     0,     0,     0,     0,     0,     0,\n",
              "           0,     0,     0,     0,     0,     0,     0,     0,     0,\n",
              "           0,     0,     0,     0,     0,     0,     0,     0,     0,\n",
              "           0,     0,     0,     0,     0,     0])"
            ]
          },
          "metadata": {
            "tags": []
          },
          "execution_count": 48
        }
      ]
    },
    {
      "cell_type": "code",
      "metadata": {
        "colab": {
          "base_uri": "https://localhost:8080/",
          "height": 86
        },
        "id": "e0GFBkXdHmDe",
        "outputId": "2ac832c2-ccf4-4864-a698-d74f39f71bed"
      },
      "source": [
        "'''\n",
        "import keras\n",
        "from keras.models import Sequential\n",
        "import tensorflow as tf\n",
        "model = tf.keras.Sequential([\n",
        "    tf.keras.layers.Embedding(vocab_size, 16, input_length=60),\n",
        "    tf.keras.layers.Bidirectional(tf.keras.layers.LSTM(256, return_sequences=True)),\n",
        "    tf.keras.layers.GlobalAveragePooling1D(),\n",
        "    tf.keras.layers.Dropout(0.3),\n",
        "    tf.keras.layers.Dense(64, activation='relu'),\n",
        "    #tf.keras.layers.Dropout(0.3),\n",
        "    tf.keras.layers.Dense(3, activation='softmax')\n",
        "])\n",
        "# opt = tf.keras.optimizers.Adam(learning_rate=0.01)\n",
        "model.compile(loss='categorical_crossentropy',optimizer=\"adam\",metrics=['accuracy'])\n",
        "'''"
      ],
      "execution_count": 49,
      "outputs": [
        {
          "output_type": "execute_result",
          "data": {
            "application/vnd.google.colaboratory.intrinsic+json": {
              "type": "string"
            },
            "text/plain": [
              "'\\nimport keras\\nfrom keras.models import Sequential\\nimport tensorflow as tf\\nmodel = tf.keras.Sequential([\\n    tf.keras.layers.Embedding(vocab_size, 16, input_length=60),\\n    tf.keras.layers.Bidirectional(tf.keras.layers.LSTM(256, return_sequences=True)),\\n    tf.keras.layers.GlobalAveragePooling1D(),\\n    tf.keras.layers.Dropout(0.3),\\n    tf.keras.layers.Dense(64, activation=\\'relu\\'),\\n    #tf.keras.layers.Dropout(0.3),\\n    tf.keras.layers.Dense(3, activation=\\'softmax\\')\\n])\\n# opt = tf.keras.optimizers.Adam(learning_rate=0.01)\\nmodel.compile(loss=\\'categorical_crossentropy\\',optimizer=\"adam\",metrics=[\\'accuracy\\'])\\n'"
            ]
          },
          "metadata": {
            "tags": []
          },
          "execution_count": 49
        }
      ]
    },
    {
      "cell_type": "code",
      "metadata": {
        "id": "dW-_ldvPHpTe",
        "colab": {
          "base_uri": "https://localhost:8080/",
          "height": 35
        },
        "outputId": "b92f3ad9-5fc4-4cac-98bc-1569f2c1a0d4"
      },
      "source": [
        "'''\n",
        "from keras.utils import to_categorical\n",
        "y = to_categorical(train_df['Sentiment'], 3)\n",
        "#y_train = to_categorical(y_train, 3)\n",
        "y_test = to_categorical(y_test, 3)\n",
        "'''"
      ],
      "execution_count": 50,
      "outputs": [
        {
          "output_type": "execute_result",
          "data": {
            "application/vnd.google.colaboratory.intrinsic+json": {
              "type": "string"
            },
            "text/plain": [
              "\"\\nfrom keras.utils import to_categorical\\ny = to_categorical(train_df['Sentiment'], 3)\\n#y_train = to_categorical(y_train, 3)\\ny_test = to_categorical(y_test, 3)\\n\""
            ]
          },
          "metadata": {
            "tags": []
          },
          "execution_count": 50
        }
      ]
    },
    {
      "cell_type": "code",
      "metadata": {
        "colab": {
          "base_uri": "https://localhost:8080/",
          "height": 35
        },
        "id": "oEXCr5b9HtGx",
        "outputId": "5c7751c2-860c-4376-9dc9-5a5138bda00d"
      },
      "source": [
        "'''\n",
        "num_epochs = 10\n",
        "history = model.fit(feature_train, y, epochs=num_epochs, validation_data=(X_test, y_test))\n",
        "'''"
      ],
      "execution_count": 51,
      "outputs": [
        {
          "output_type": "execute_result",
          "data": {
            "application/vnd.google.colaboratory.intrinsic+json": {
              "type": "string"
            },
            "text/plain": [
              "'\\nnum_epochs = 10\\nhistory = model.fit(feature_train, y, epochs=num_epochs, validation_data=(X_test, y_test))\\n'"
            ]
          },
          "metadata": {
            "tags": []
          },
          "execution_count": 51
        }
      ]
    },
    {
      "cell_type": "code",
      "metadata": {
        "id": "wr103yNRIdb7"
      },
      "source": [
        "#accr = model.evaluate(X_test,y_test)\n",
        "#print(accr)"
      ],
      "execution_count": 52,
      "outputs": []
    },
    {
      "cell_type": "markdown",
      "metadata": {
        "id": "7__Jv7V32GHf"
      },
      "source": [
        "# data loader "
      ]
    },
    {
      "cell_type": "code",
      "metadata": {
        "colab": {
          "base_uri": "https://localhost:8080/",
          "height": 86
        },
        "id": "ihf1VlRF8wsa",
        "outputId": "12015e36-57d9-4667-8a71-bb6de445a5f9"
      },
      "source": [
        "'''\n",
        "from tensorflow.keras.preprocessing.text import Tokenizer\n",
        "from tensorflow.keras.preprocessing.sequence import pad_sequences\n",
        "tokenizer = Tokenizer()\n",
        "tokenizer.fit_on_texts(train_df['NewTweet'])\n",
        "vocab_length = len(tokenizer.word_index) + 1\n",
        "\n",
        "X_train = tokenizer.texts_to_sequences(train_df['NewTweet'])\n",
        "X_test = tokenizer.texts_to_sequences(test_df['NewTweet'])\n",
        "\n",
        "X_train = pad_sequences(X_train, maxlen=60, padding='post')\n",
        "X_test = pad_sequences(X_test, maxlen=60, padding='post')\n",
        "\n",
        "X_train, X_val, y_train, y_val = train_test_split(X_train, train_df['Sentiment'].to_numpy(), test_size=0.2, random_state=42)\n",
        "y_test = test_df['Sentiment'].to_numpy()\n",
        "'''"
      ],
      "execution_count": 53,
      "outputs": [
        {
          "output_type": "execute_result",
          "data": {
            "application/vnd.google.colaboratory.intrinsic+json": {
              "type": "string"
            },
            "text/plain": [
              "\"\\nfrom tensorflow.keras.preprocessing.text import Tokenizer\\nfrom tensorflow.keras.preprocessing.sequence import pad_sequences\\ntokenizer = Tokenizer()\\ntokenizer.fit_on_texts(train_df['NewTweet'])\\nvocab_length = len(tokenizer.word_index) + 1\\n\\nX_train = tokenizer.texts_to_sequences(train_df['NewTweet'])\\nX_test = tokenizer.texts_to_sequences(test_df['NewTweet'])\\n\\nX_train = pad_sequences(X_train, maxlen=60, padding='post')\\nX_test = pad_sequences(X_test, maxlen=60, padding='post')\\n\\nX_train, X_val, y_train, y_val = train_test_split(X_train, train_df['Sentiment'].to_numpy(), test_size=0.2, random_state=42)\\ny_test = test_df['Sentiment'].to_numpy()\\n\""
            ]
          },
          "metadata": {
            "tags": []
          },
          "execution_count": 53
        }
      ]
    },
    {
      "cell_type": "code",
      "metadata": {
        "id": "yKuVh-099I_z"
      },
      "source": [
        "#X_test.shape"
      ],
      "execution_count": 54,
      "outputs": []
    },
    {
      "cell_type": "code",
      "metadata": {
        "id": "PMR1KfgL2GHf"
      },
      "source": [
        "from torch.utils.data import DataLoader, TensorDataset\n",
        "# create Tensor datasets\n",
        "train_data = TensorDataset(torch.from_numpy(X_train).cuda(), torch.from_numpy(y_train).cuda())\n",
        "valid_data = TensorDataset(torch.from_numpy(X_val).cuda(), torch.from_numpy(y_val).cuda())\n",
        "test_data = TensorDataset(torch.from_numpy(X_test).cuda(), torch.from_numpy(y_test).cuda())\n",
        "\n",
        "#PARAMETER TODO\n",
        "batch_size = 64 \n",
        "\n",
        "# make sure to SHUFFLE your data\n",
        "train_loader = DataLoader(train_data, shuffle=True, batch_size=batch_size, drop_last=True)\n",
        "valid_loader = DataLoader(valid_data, shuffle=True, batch_size=batch_size, drop_last=True)\n",
        "test_loader = DataLoader(test_data, shuffle=True, batch_size=batch_size, drop_last=True)"
      ],
      "execution_count": 55,
      "outputs": []
    },
    {
      "cell_type": "code",
      "metadata": {
        "colab": {
          "base_uri": "https://localhost:8080/"
        },
        "id": "z13m3AKS2GHf",
        "outputId": "265695d8-f022-43a2-c420-cbb99eff64a0"
      },
      "source": [
        "# obtain one batch of training data\n",
        "dataiter = iter(train_loader)\n",
        "sample_x, sample_y = dataiter.next()\n",
        "print('Sample input size: ', sample_x.size()) # batch_size, seq_length\n",
        "print('Sample input: \\n', sample_x)\n",
        "print()\n",
        "print('Sample label size: ', sample_y.size()) # batch_size\n",
        "print('Sample label: \\n', sample_y)"
      ],
      "execution_count": 56,
      "outputs": [
        {
          "output_type": "stream",
          "text": [
            "Sample input size:  torch.Size([64, 60])\n",
            "Sample input: \n",
            " tensor([[1560, 3430,  526,  ...,    0,    0,    0],\n",
            "        [   8,   97, 1824,  ...,    0,    0,    0],\n",
            "        [  67,   91, 5707,  ...,    0,    0,    0],\n",
            "        ...,\n",
            "        [   1,   45, 1630,  ...,    0,    0,    0],\n",
            "        [  65,   70, 1512,  ...,    0,    0,    0],\n",
            "        [3948,  233, 1772,  ...,    0,    0,    0]], device='cuda:0')\n",
            "\n",
            "Sample label size:  torch.Size([64])\n",
            "Sample label: \n",
            " tensor([0, 2, 1, 1, 1, 0, 2, 1, 0, 2, 1, 2, 0, 2, 1, 0, 2, 1, 0, 0, 1, 1, 2, 0,\n",
            "        1, 2, 2, 0, 2, 2, 2, 2, 2, 2, 1, 1, 2, 1, 2, 2, 1, 2, 1, 2, 2, 1, 0, 2,\n",
            "        2, 2, 2, 0, 0, 1, 2, 2, 1, 1, 0, 0, 2, 1, 1, 1], device='cuda:0')\n"
          ],
          "name": "stdout"
        }
      ]
    },
    {
      "cell_type": "markdown",
      "metadata": {
        "id": "PE4NsLlw2GHg"
      },
      "source": [
        "# The layers are as follows:\n",
        "0. Tokenize : This is not a layer for LSTM network but a mandatory step of converting our words into tokens (integers)  \n",
        "\n",
        "Embedding Layer: that converts our word tokens (integers) into embedding of specific size  \n",
        "\n",
        "LSTM Layer: defined by hidden state dims and number of layers  \n",
        "\n",
        "Fully Connected Layer: that maps output of LSTM layer to a desired output size  \n",
        "\n",
        "Sigmoid Activation Layer: that turns all output values in a value between 0 and 1  \n",
        "\n",
        "Output: Sigmoid output from the last timestep is considered as the final output of this network  \n"
      ]
    },
    {
      "cell_type": "markdown",
      "metadata": {
        "id": "Qv-sMdXj2GHg"
      },
      "source": [
        "# define the model class"
      ]
    },
    {
      "cell_type": "code",
      "metadata": {
        "id": "USkO6RPx2GHh"
      },
      "source": [
        "import torch.nn as nn\n",
        "\n",
        "class SentimentLSTM(nn.Module):\n",
        "    \"\"\"\n",
        "    The RNN model that will be used to perform Sentiment analysis.\n",
        "    \"\"\"\n",
        "\n",
        "    def __init__(self, vocab_size, output_size, embedding_dim, hidden_dim, n_layers, drop_prob=0.3):\n",
        "        \"\"\"\n",
        "        Initialize the model by setting up the layers.\n",
        "        \"\"\"\n",
        "        super().__init__()\n",
        "\n",
        "        self.output_size = output_size\n",
        "        self.n_layers = n_layers\n",
        "        self.hidden_dim = hidden_dim\n",
        "        \n",
        "        # embedding and LSTM layers\n",
        "        self.embedding = nn.Embedding(vocab_size, embedding_dim)\n",
        "        self.lstm = nn.LSTM(embedding_dim, hidden_dim, n_layers, \n",
        "                            dropout=drop_prob, batch_first=True, bidirectional=True)\n",
        "        #self.gru = nn.GRU(embedding_dim, hidden_dim, n_layers, dropout=drop_prob, batch_first=True, bidirectional=True)\n",
        "        # dropout layer\n",
        "        self.dropout = nn.Dropout(0.3)\n",
        "        # linear and sigmoid layers\n",
        "        #self.maxpool = nn.AdaptiveMaxPool1d(128)\n",
        "        self.fc1 = nn.Linear(256, 64)\n",
        "        self.relu = nn.ReLU()\n",
        "        self.fc2 = nn.Linear(64, output_size)\n",
        "        #self.sig = nn.Sigmoid()\n",
        "        self.softmax = nn.Softmax(dim=1)\n",
        "        \n",
        "\n",
        "    def forward(self, x, hidden):\n",
        "        \"\"\"\n",
        "        Perform a forward pass of our model on some input and hidden state.\n",
        "        \"\"\"\n",
        "        #print('inside nn')\n",
        "        #print(f'x size: {x.shape}')\n",
        "\n",
        "        batch_size = x.size(0)\n",
        "        #print(f'batch_size: {batch_size}')\n",
        "        x = x.long()\n",
        "        # embeddings and lstm_out\n",
        "        if(x.is_cuda==False):\n",
        "            x=x.cuda()\n",
        "        embeds = self.embedding(x)\n",
        "        #print(f'embeds shape: {embeds.shape}')\n",
        "\n",
        "        #lstm_out, hidden = self.gru(embeds, hidden)\n",
        "        lstm_out, hidden = self.lstm(embeds, hidden)\n",
        "        #print(f'lstm_out shape: {lstm_out.shape}')\n",
        "        lstm_out = torch.mean(lstm_out, dim=1)\n",
        "        #print(f'lstm_out shape: {lstm_out.shape}')\n",
        "        # stack up lstm outputs\n",
        "        lstm_out = lstm_out.contiguous().view(-1, self.hidden_dim)\n",
        "        #print(f'lstm_out shape second: {lstm_out.shape}')\n",
        "        #out = self.maxpool(lstm_out)\n",
        "        # dropout and fully-connected layer\n",
        "        out = self.dropout(lstm_out)\n",
        "        out = self.fc1(out)\n",
        "        out = self.relu(out)\n",
        "        #out = self.dropout(out)\n",
        "        out = self.fc2(out)\n",
        "        \n",
        "        #print(f'fc output shape: {out.shape}')\n",
        "        # sigmoid function\n",
        "        #sig_out = self.sig(out)\n",
        "        #sig_out = self.relu(out)\n",
        "        sig_out = self.softmax(out)\n",
        "        \n",
        "        # reshape to be batch_size first\n",
        "        #sig_out = sig_out.view(batch_size, -1)\n",
        "        sig_out = sig_out.view(batch_size, -1, output_size)\n",
        "\n",
        "        #print(f'sig_out shape: {sig_out.shape}')\n",
        "        sig_out = sig_out[:, -1] # get last batch of labels\n",
        "        #sig_out = torch.mean(sig_out, dim=1)\n",
        "        #sig_out = sig_out[:, -1, :]\n",
        "        #print(f'sig_out shape: {sig_out.shape}')\n",
        "        # return last sigmoid output and hidden state\n",
        "        #print('leave nn')\n",
        "        #print(f'final shape: {sig_out.shape}')\n",
        "        return sig_out, hidden\n",
        "    \n",
        "    \n",
        "    def init_hidden(self, batch_size):\n",
        "        ''' Initializes hidden state '''\n",
        "        # Create two new tensors with sizes n_layers x batch_size x hidden_dim,\n",
        "        # initialized to zero, for hidden state and cell state of LSTM\n",
        "        weight = next(self.parameters()).data\n",
        "        \n",
        "        if (train_on_gpu):\n",
        "            hidden = (weight.new(self.n_layers*2, batch_size, self.hidden_dim).zero_().cuda(),\n",
        "                  weight.new(self.n_layers*2, batch_size, self.hidden_dim).zero_().cuda())\n",
        "        else:\n",
        "            hidden = (weight.new(self.n_layers, batch_size, self.hidden_dim).zero_(),\n",
        "                      weight.new(self.n_layers, batch_size, self.hidden_dim).zero_())\n",
        "        \n",
        "        return hidden"
      ],
      "execution_count": 57,
      "outputs": []
    },
    {
      "cell_type": "markdown",
      "metadata": {
        "id": "4tRVFkTn2GHi"
      },
      "source": [
        "# Train the network"
      ]
    },
    {
      "cell_type": "markdown",
      "metadata": {
        "id": "nExjcmf92GHi"
      },
      "source": [
        "## Instantiate the network"
      ]
    },
    {
      "cell_type": "code",
      "metadata": {
        "colab": {
          "base_uri": "https://localhost:8080/"
        },
        "id": "y6OLahBB2GHi",
        "outputId": "ffc76e31-2b67-42b4-f8bc-d6989b7c01d5"
      },
      "source": [
        "# Instantiate the model w/ hyperparams\n",
        "vocab_size = len(train_vocab_to_int)+1 # +1 for the 0 padding\n",
        "output_size = 3 \n",
        "embedding_dim = 16\n",
        "hidden_dim = 256\n",
        "n_layers = 2\n",
        "net = SentimentLSTM(vocab_size, output_size, embedding_dim, hidden_dim, n_layers)\n",
        "print(net)"
      ],
      "execution_count": 58,
      "outputs": [
        {
          "output_type": "stream",
          "text": [
            "SentimentLSTM(\n",
            "  (embedding): Embedding(60889, 16)\n",
            "  (lstm): LSTM(16, 256, num_layers=2, batch_first=True, dropout=0.3, bidirectional=True)\n",
            "  (dropout): Dropout(p=0.3, inplace=False)\n",
            "  (fc1): Linear(in_features=256, out_features=64, bias=True)\n",
            "  (relu): ReLU()\n",
            "  (fc2): Linear(in_features=64, out_features=3, bias=True)\n",
            "  (softmax): Softmax(dim=1)\n",
            ")\n"
          ],
          "name": "stdout"
        }
      ]
    },
    {
      "cell_type": "markdown",
      "metadata": {
        "id": "SXSC3yuj2GHj"
      },
      "source": [
        "# Train loop"
      ]
    },
    {
      "cell_type": "code",
      "metadata": {
        "colab": {
          "base_uri": "https://localhost:8080/"
        },
        "id": "a3uX9C722GHj",
        "outputId": "0c5d99d8-0181-4771-8efb-282fad532553"
      },
      "source": [
        "# loss and optimization functions\n",
        "lr=0.001\n",
        "\n",
        "#criterion = nn.BCELoss()\n",
        "criterion = nn.CrossEntropyLoss()\n",
        "optimizer = torch.optim.Adam(net.parameters(), lr=lr)\n",
        "#scheduler = StepLR(optimizer, step_size=10, gamma=0.1)\n",
        "\n",
        "train_on_gpu = torch.cuda.is_available()\n",
        "\n",
        "\n",
        "# training params\n",
        "\n",
        "epochs = 50 # 3-4 is approx where I noticed the validation loss stop decreasing\n",
        "\n",
        "counter = 0\n",
        "print_every = 100\n",
        "clip=5 # gradient clipping\n",
        "\n",
        "# move model to GPU, if available\n",
        "if(train_on_gpu):\n",
        "    net.cuda()\n",
        "\n",
        "net.train()\n",
        "# train for some number of epochs\n",
        "for e in range(epochs):\n",
        "    # initialize hidden state\n",
        "    h = net.init_hidden(batch_size)\n",
        "\n",
        "    # batch loop\n",
        "    for inputs, labels in train_loader:\n",
        "        counter += 1\n",
        "\n",
        "        # Creating new variables for the hidden state, otherwise\n",
        "        # we'd backprop through the entire training history\n",
        "        h = tuple([each.data for each in h])\n",
        "\n",
        "        # zero accumulated gradients\n",
        "        net.zero_grad()\n",
        "\n",
        "        # get the output from the model\n",
        "#         inputs = inputs.type(torch.LongTensor)\n",
        "        output, h = net(inputs, h)\n",
        "\n",
        "        # calculate the loss and perform backprop\n",
        "        #print(output.squeeze())\n",
        "        #print(labels.float().shape)\n",
        "        labels_long = labels.type(torch.LongTensor).cuda()\n",
        "        #loss = criterion(output.squeeze(), labels.float())\n",
        "        loss = criterion(output.squeeze(), labels_long)\n",
        "        loss.backward()\n",
        "        # `clip_grad_norm` helps prevent the exploding gradient problem in RNNs / LSTMs.\n",
        "        #nn.utils.clip_grad_norm_(net.parameters(), clip)\n",
        "        optimizer.step()\n",
        "\n",
        "        # loss stats\n",
        "        if counter % print_every == 0:\n",
        "            # Get validation loss\n",
        "            val_h = net.init_hidden(batch_size)\n",
        "            val_losses = []\n",
        "            net.eval()\n",
        "            for inputs, labels in valid_loader:\n",
        "                if inputs.device=='cpu':\n",
        "                    print(\"valid\")\n",
        "                # Creating new variables for the hidden state, otherwise\n",
        "                # we'd backprop through the entire training history\n",
        "                val_h = tuple([each.data for each in val_h])\n",
        "\n",
        "                if(train_on_gpu):\n",
        "                    inputs, labels = inputs.cuda(), labels.type(torch.LongTensor).cuda()\n",
        "\n",
        "                inputs = inputs.type(torch.LongTensor)\n",
        "                #labels = labels.type(torch.LongTensor)\n",
        "                output, val_h = net(inputs, val_h)\n",
        "#                 print(val_h)\n",
        "                #val_loss = criterion(output.squeeze(), labels.float())\n",
        "                val_loss = criterion(output.squeeze(), labels)\n",
        "\n",
        "                val_losses.append(val_loss.item())\n",
        "\n",
        "            net.train()\n",
        "            print(\"Epoch: {}/{}...\".format(e+1, epochs),\n",
        "                  \"Step: {}...\".format(counter),\n",
        "                  \"Loss: {:.6f}...\".format(loss.item()),\n",
        "                  \"Val Loss: {:.6f}\".format(np.mean(val_losses)))\n",
        "    #scheduler.step()"
      ],
      "execution_count": 59,
      "outputs": [
        {
          "output_type": "stream",
          "text": [
            "Epoch: 1/50... Step: 100... Loss: 1.080938... Val Loss: 1.049574\n",
            "Epoch: 1/50... Step: 200... Loss: 1.051161... Val Loss: 1.048921\n",
            "Epoch: 1/50... Step: 300... Loss: 1.034920... Val Loss: 1.040418\n",
            "Epoch: 1/50... Step: 400... Loss: 1.058215... Val Loss: 1.034211\n",
            "Epoch: 1/50... Step: 500... Loss: 1.013101... Val Loss: 1.038827\n",
            "Epoch: 2/50... Step: 600... Loss: 1.043200... Val Loss: 1.034485\n",
            "Epoch: 2/50... Step: 700... Loss: 1.008132... Val Loss: 1.032272\n",
            "Epoch: 2/50... Step: 800... Loss: 0.995717... Val Loss: 1.033715\n",
            "Epoch: 2/50... Step: 900... Loss: 1.004509... Val Loss: 1.028787\n",
            "Epoch: 2/50... Step: 1000... Loss: 1.027104... Val Loss: 1.021171\n",
            "Epoch: 3/50... Step: 1100... Loss: 0.941970... Val Loss: 1.013619\n",
            "Epoch: 3/50... Step: 1200... Loss: 1.025471... Val Loss: 1.011045\n",
            "Epoch: 3/50... Step: 1300... Loss: 0.968650... Val Loss: 0.984007\n",
            "Epoch: 3/50... Step: 1400... Loss: 1.101957... Val Loss: 0.966977\n",
            "Epoch: 3/50... Step: 1500... Loss: 0.886722... Val Loss: 0.935833\n",
            "Epoch: 4/50... Step: 1600... Loss: 0.947901... Val Loss: 0.922210\n",
            "Epoch: 4/50... Step: 1700... Loss: 0.877379... Val Loss: 0.911337\n",
            "Epoch: 4/50... Step: 1800... Loss: 0.763719... Val Loss: 0.898494\n",
            "Epoch: 4/50... Step: 1900... Loss: 0.852731... Val Loss: 0.889472\n",
            "Epoch: 4/50... Step: 2000... Loss: 0.919317... Val Loss: 0.887968\n",
            "Epoch: 5/50... Step: 2100... Loss: 0.780253... Val Loss: 0.890822\n",
            "Epoch: 5/50... Step: 2200... Loss: 0.880471... Val Loss: 0.879840\n",
            "Epoch: 5/50... Step: 2300... Loss: 0.819938... Val Loss: 0.877095\n",
            "Epoch: 5/50... Step: 2400... Loss: 0.833218... Val Loss: 0.866966\n",
            "Epoch: 5/50... Step: 2500... Loss: 0.806697... Val Loss: 0.869106\n",
            "Epoch: 6/50... Step: 2600... Loss: 0.714596... Val Loss: 0.858352\n",
            "Epoch: 6/50... Step: 2700... Loss: 0.848768... Val Loss: 0.860715\n",
            "Epoch: 6/50... Step: 2800... Loss: 0.847283... Val Loss: 0.857360\n",
            "Epoch: 6/50... Step: 2900... Loss: 0.699850... Val Loss: 0.849064\n",
            "Epoch: 6/50... Step: 3000... Loss: 0.806650... Val Loss: 0.856535\n",
            "Epoch: 7/50... Step: 3100... Loss: 0.724742... Val Loss: 0.844457\n",
            "Epoch: 7/50... Step: 3200... Loss: 0.840201... Val Loss: 0.849089\n",
            "Epoch: 7/50... Step: 3300... Loss: 0.777697... Val Loss: 0.843171\n",
            "Epoch: 7/50... Step: 3400... Loss: 0.753718... Val Loss: 0.838806\n",
            "Epoch: 7/50... Step: 3500... Loss: 0.728839... Val Loss: 0.842646\n",
            "Epoch: 8/50... Step: 3600... Loss: 0.796942... Val Loss: 0.834945\n",
            "Epoch: 8/50... Step: 3700... Loss: 0.708851... Val Loss: 0.835641\n",
            "Epoch: 8/50... Step: 3800... Loss: 0.778574... Val Loss: 0.832823\n",
            "Epoch: 8/50... Step: 3900... Loss: 0.836560... Val Loss: 0.833527\n",
            "Epoch: 8/50... Step: 4000... Loss: 0.843969... Val Loss: 0.828304\n",
            "Epoch: 8/50... Step: 4100... Loss: 0.705938... Val Loss: 0.830001\n",
            "Epoch: 9/50... Step: 4200... Loss: 0.730458... Val Loss: 0.826952\n",
            "Epoch: 9/50... Step: 4300... Loss: 0.688154... Val Loss: 0.825421\n",
            "Epoch: 9/50... Step: 4400... Loss: 0.701814... Val Loss: 0.824729\n",
            "Epoch: 9/50... Step: 4500... Loss: 0.707433... Val Loss: 0.827400\n",
            "Epoch: 9/50... Step: 4600... Loss: 0.731133... Val Loss: 0.822960\n",
            "Epoch: 10/50... Step: 4700... Loss: 0.755200... Val Loss: 0.819648\n",
            "Epoch: 10/50... Step: 4800... Loss: 0.617936... Val Loss: 0.820644\n",
            "Epoch: 10/50... Step: 4900... Loss: 0.702467... Val Loss: 0.819678\n",
            "Epoch: 10/50... Step: 5000... Loss: 0.765233... Val Loss: 0.818009\n",
            "Epoch: 10/50... Step: 5100... Loss: 0.689197... Val Loss: 0.823622\n",
            "Epoch: 11/50... Step: 5200... Loss: 0.692674... Val Loss: 0.830910\n",
            "Epoch: 11/50... Step: 5300... Loss: 0.637605... Val Loss: 0.817127\n",
            "Epoch: 11/50... Step: 5400... Loss: 0.695769... Val Loss: 0.820643\n",
            "Epoch: 11/50... Step: 5500... Loss: 0.745724... Val Loss: 0.817220\n",
            "Epoch: 11/50... Step: 5600... Loss: 0.722219... Val Loss: 0.815919\n",
            "Epoch: 12/50... Step: 5700... Loss: 0.648810... Val Loss: 0.817507\n",
            "Epoch: 12/50... Step: 5800... Loss: 0.712009... Val Loss: 0.816673\n",
            "Epoch: 12/50... Step: 5900... Loss: 0.757596... Val Loss: 0.817731\n",
            "Epoch: 12/50... Step: 6000... Loss: 0.685910... Val Loss: 0.811737\n",
            "Epoch: 12/50... Step: 6100... Loss: 0.781174... Val Loss: 0.818028\n",
            "Epoch: 13/50... Step: 6200... Loss: 0.619617... Val Loss: 0.810407\n",
            "Epoch: 13/50... Step: 6300... Loss: 0.682749... Val Loss: 0.812012\n",
            "Epoch: 13/50... Step: 6400... Loss: 0.659313... Val Loss: 0.812891\n",
            "Epoch: 13/50... Step: 6500... Loss: 0.704443... Val Loss: 0.807712\n",
            "Epoch: 13/50... Step: 6600... Loss: 0.697941... Val Loss: 0.808952\n",
            "Epoch: 14/50... Step: 6700... Loss: 0.680118... Val Loss: 0.811416\n",
            "Epoch: 14/50... Step: 6800... Loss: 0.677553... Val Loss: 0.808127\n",
            "Epoch: 14/50... Step: 6900... Loss: 0.660708... Val Loss: 0.807628\n",
            "Epoch: 14/50... Step: 7000... Loss: 0.751767... Val Loss: 0.806279\n",
            "Epoch: 14/50... Step: 7100... Loss: 0.682985... Val Loss: 0.803312\n",
            "Epoch: 15/50... Step: 7200... Loss: 0.727900... Val Loss: 0.810199\n",
            "Epoch: 15/50... Step: 7300... Loss: 0.679868... Val Loss: 0.807144\n",
            "Epoch: 15/50... Step: 7400... Loss: 0.665277... Val Loss: 0.813146\n",
            "Epoch: 15/50... Step: 7500... Loss: 0.620003... Val Loss: 0.807966\n",
            "Epoch: 15/50... Step: 7600... Loss: 0.661371... Val Loss: 0.808580\n",
            "Epoch: 15/50... Step: 7700... Loss: 0.677515... Val Loss: 0.806981\n",
            "Epoch: 16/50... Step: 7800... Loss: 0.665565... Val Loss: 0.808843\n",
            "Epoch: 16/50... Step: 7900... Loss: 0.739321... Val Loss: 0.803387\n",
            "Epoch: 16/50... Step: 8000... Loss: 0.680915... Val Loss: 0.807075\n",
            "Epoch: 16/50... Step: 8100... Loss: 0.699279... Val Loss: 0.803489\n",
            "Epoch: 16/50... Step: 8200... Loss: 0.694474... Val Loss: 0.805910\n",
            "Epoch: 17/50... Step: 8300... Loss: 0.644011... Val Loss: 0.803799\n",
            "Epoch: 17/50... Step: 8400... Loss: 0.633749... Val Loss: 0.806449\n",
            "Epoch: 17/50... Step: 8500... Loss: 0.758404... Val Loss: 0.808432\n",
            "Epoch: 17/50... Step: 8600... Loss: 0.602425... Val Loss: 0.805535\n",
            "Epoch: 17/50... Step: 8700... Loss: 0.645780... Val Loss: 0.803501\n",
            "Epoch: 18/50... Step: 8800... Loss: 0.645393... Val Loss: 0.801125\n",
            "Epoch: 18/50... Step: 8900... Loss: 0.692177... Val Loss: 0.803425\n",
            "Epoch: 18/50... Step: 9000... Loss: 0.661011... Val Loss: 0.802295\n",
            "Epoch: 18/50... Step: 9100... Loss: 0.645499... Val Loss: 0.801390\n",
            "Epoch: 18/50... Step: 9200... Loss: 0.673991... Val Loss: 0.802810\n",
            "Epoch: 19/50... Step: 9300... Loss: 0.676464... Val Loss: 0.802115\n",
            "Epoch: 19/50... Step: 9400... Loss: 0.615231... Val Loss: 0.801798\n",
            "Epoch: 19/50... Step: 9500... Loss: 0.661489... Val Loss: 0.799229\n",
            "Epoch: 19/50... Step: 9600... Loss: 0.673533... Val Loss: 0.804484\n",
            "Epoch: 19/50... Step: 9700... Loss: 0.616261... Val Loss: 0.805228\n",
            "Epoch: 20/50... Step: 9800... Loss: 0.677018... Val Loss: 0.799544\n",
            "Epoch: 20/50... Step: 9900... Loss: 0.649253... Val Loss: 0.801147\n",
            "Epoch: 20/50... Step: 10000... Loss: 0.664782... Val Loss: 0.803411\n",
            "Epoch: 20/50... Step: 10100... Loss: 0.599645... Val Loss: 0.798054\n",
            "Epoch: 20/50... Step: 10200... Loss: 0.660964... Val Loss: 0.798787\n",
            "Epoch: 21/50... Step: 10300... Loss: 0.644821... Val Loss: 0.799256\n",
            "Epoch: 21/50... Step: 10400... Loss: 0.653346... Val Loss: 0.801035\n",
            "Epoch: 21/50... Step: 10500... Loss: 0.699329... Val Loss: 0.799091\n",
            "Epoch: 21/50... Step: 10600... Loss: 0.599591... Val Loss: 0.802520\n",
            "Epoch: 21/50... Step: 10700... Loss: 0.638890... Val Loss: 0.802269\n",
            "Epoch: 22/50... Step: 10800... Loss: 0.645127... Val Loss: 0.802691\n",
            "Epoch: 22/50... Step: 10900... Loss: 0.659623... Val Loss: 0.800404\n",
            "Epoch: 22/50... Step: 11000... Loss: 0.692861... Val Loss: 0.798757\n",
            "Epoch: 22/50... Step: 11100... Loss: 0.658160... Val Loss: 0.798718\n",
            "Epoch: 22/50... Step: 11200... Loss: 0.601708... Val Loss: 0.798951\n",
            "Epoch: 22/50... Step: 11300... Loss: 0.692262... Val Loss: 0.800768\n",
            "Epoch: 23/50... Step: 11400... Loss: 0.673239... Val Loss: 0.801878\n",
            "Epoch: 23/50... Step: 11500... Loss: 0.625622... Val Loss: 0.797554\n",
            "Epoch: 23/50... Step: 11600... Loss: 0.665106... Val Loss: 0.802923\n",
            "Epoch: 23/50... Step: 11700... Loss: 0.689951... Val Loss: 0.800214\n",
            "Epoch: 23/50... Step: 11800... Loss: 0.677875... Val Loss: 0.806113\n",
            "Epoch: 24/50... Step: 11900... Loss: 0.629730... Val Loss: 0.799603\n",
            "Epoch: 24/50... Step: 12000... Loss: 0.645088... Val Loss: 0.799936\n",
            "Epoch: 24/50... Step: 12100... Loss: 0.638562... Val Loss: 0.798737\n",
            "Epoch: 24/50... Step: 12200... Loss: 0.648962... Val Loss: 0.798366\n",
            "Epoch: 24/50... Step: 12300... Loss: 0.646684... Val Loss: 0.799773\n",
            "Epoch: 25/50... Step: 12400... Loss: 0.601265... Val Loss: 0.796626\n",
            "Epoch: 25/50... Step: 12500... Loss: 0.679341... Val Loss: 0.797711\n",
            "Epoch: 25/50... Step: 12600... Loss: 0.676957... Val Loss: 0.799439\n",
            "Epoch: 25/50... Step: 12700... Loss: 0.587886... Val Loss: 0.799969\n",
            "Epoch: 25/50... Step: 12800... Loss: 0.758723... Val Loss: 0.799396\n",
            "Epoch: 26/50... Step: 12900... Loss: 0.633720... Val Loss: 0.797637\n",
            "Epoch: 26/50... Step: 13000... Loss: 0.598418... Val Loss: 0.804284\n",
            "Epoch: 26/50... Step: 13100... Loss: 0.614177... Val Loss: 0.801979\n",
            "Epoch: 26/50... Step: 13200... Loss: 0.628508... Val Loss: 0.798637\n",
            "Epoch: 26/50... Step: 13300... Loss: 0.598358... Val Loss: 0.799861\n",
            "Epoch: 27/50... Step: 13400... Loss: 0.681407... Val Loss: 0.797950\n",
            "Epoch: 27/50... Step: 13500... Loss: 0.647394... Val Loss: 0.798420\n",
            "Epoch: 27/50... Step: 13600... Loss: 0.662033... Val Loss: 0.796352\n",
            "Epoch: 27/50... Step: 13700... Loss: 0.681054... Val Loss: 0.797740\n",
            "Epoch: 27/50... Step: 13800... Loss: 0.690646... Val Loss: 0.797830\n",
            "Epoch: 28/50... Step: 13900... Loss: 0.684403... Val Loss: 0.796821\n",
            "Epoch: 28/50... Step: 14000... Loss: 0.629454... Val Loss: 0.798750\n",
            "Epoch: 28/50... Step: 14100... Loss: 0.692140... Val Loss: 0.799057\n",
            "Epoch: 28/50... Step: 14200... Loss: 0.660866... Val Loss: 0.797814\n",
            "Epoch: 28/50... Step: 14300... Loss: 0.675221... Val Loss: 0.793221\n",
            "Epoch: 29/50... Step: 14400... Loss: 0.614873... Val Loss: 0.794416\n",
            "Epoch: 29/50... Step: 14500... Loss: 0.629581... Val Loss: 0.796060\n",
            "Epoch: 29/50... Step: 14600... Loss: 0.614088... Val Loss: 0.791709\n",
            "Epoch: 29/50... Step: 14700... Loss: 0.629560... Val Loss: 0.793346\n",
            "Epoch: 29/50... Step: 14800... Loss: 0.629577... Val Loss: 0.792375\n",
            "Epoch: 29/50... Step: 14900... Loss: 0.660413... Val Loss: 0.792085\n",
            "Epoch: 30/50... Step: 15000... Loss: 0.676037... Val Loss: 0.791904\n",
            "Epoch: 30/50... Step: 15100... Loss: 0.645596... Val Loss: 0.792102\n",
            "Epoch: 30/50... Step: 15200... Loss: 0.619509... Val Loss: 0.791781\n",
            "Epoch: 30/50... Step: 15300... Loss: 0.645383... Val Loss: 0.791848\n",
            "Epoch: 30/50... Step: 15400... Loss: 0.676503... Val Loss: 0.795728\n",
            "Epoch: 31/50... Step: 15500... Loss: 0.614156... Val Loss: 0.793113\n",
            "Epoch: 31/50... Step: 15600... Loss: 0.612696... Val Loss: 0.795504\n",
            "Epoch: 31/50... Step: 15700... Loss: 0.599217... Val Loss: 0.790806\n",
            "Epoch: 31/50... Step: 15800... Loss: 0.692045... Val Loss: 0.792552\n",
            "Epoch: 31/50... Step: 15900... Loss: 0.641844... Val Loss: 0.794870\n",
            "Epoch: 32/50... Step: 16000... Loss: 0.650390... Val Loss: 0.794628\n",
            "Epoch: 32/50... Step: 16100... Loss: 0.630818... Val Loss: 0.791180\n",
            "Epoch: 32/50... Step: 16200... Loss: 0.587453... Val Loss: 0.792713\n",
            "Epoch: 32/50... Step: 16300... Loss: 0.676913... Val Loss: 0.801470\n",
            "Epoch: 32/50... Step: 16400... Loss: 0.613511... Val Loss: 0.791781\n",
            "Epoch: 33/50... Step: 16500... Loss: 0.633115... Val Loss: 0.788776\n",
            "Epoch: 33/50... Step: 16600... Loss: 0.691884... Val Loss: 0.790574\n",
            "Epoch: 33/50... Step: 16700... Loss: 0.645784... Val Loss: 0.792693\n",
            "Epoch: 33/50... Step: 16800... Loss: 0.583142... Val Loss: 0.790778\n",
            "Epoch: 33/50... Step: 16900... Loss: 0.614024... Val Loss: 0.794096\n",
            "Epoch: 34/50... Step: 17000... Loss: 0.629371... Val Loss: 0.792984\n",
            "Epoch: 34/50... Step: 17100... Loss: 0.648920... Val Loss: 0.794251\n",
            "Epoch: 34/50... Step: 17200... Loss: 0.627063... Val Loss: 0.792562\n",
            "Epoch: 34/50... Step: 17300... Loss: 0.613967... Val Loss: 0.791843\n",
            "Epoch: 34/50... Step: 17400... Loss: 0.598328... Val Loss: 0.794063\n",
            "Epoch: 35/50... Step: 17500... Loss: 0.660871... Val Loss: 0.790195\n",
            "Epoch: 35/50... Step: 17600... Loss: 0.645187... Val Loss: 0.790842\n",
            "Epoch: 35/50... Step: 17700... Loss: 0.630429... Val Loss: 0.798019\n",
            "Epoch: 35/50... Step: 17800... Loss: 0.599522... Val Loss: 0.793882\n",
            "Epoch: 35/50... Step: 17900... Loss: 0.637850... Val Loss: 0.794217\n",
            "Epoch: 36/50... Step: 18000... Loss: 0.675777... Val Loss: 0.790120\n",
            "Epoch: 36/50... Step: 18100... Loss: 0.598629... Val Loss: 0.792047\n",
            "Epoch: 36/50... Step: 18200... Loss: 0.687394... Val Loss: 0.792084\n",
            "Epoch: 36/50... Step: 18300... Loss: 0.629572... Val Loss: 0.788409\n",
            "Epoch: 36/50... Step: 18400... Loss: 0.657890... Val Loss: 0.789735\n",
            "Epoch: 36/50... Step: 18500... Loss: 0.645168... Val Loss: 0.790101\n",
            "Epoch: 37/50... Step: 18600... Loss: 0.643223... Val Loss: 0.794494\n",
            "Epoch: 37/50... Step: 18700... Loss: 0.598605... Val Loss: 0.788941\n",
            "Epoch: 37/50... Step: 18800... Loss: 0.675949... Val Loss: 0.793313\n",
            "Epoch: 37/50... Step: 18900... Loss: 0.689279... Val Loss: 0.789605\n",
            "Epoch: 37/50... Step: 19000... Loss: 0.644674... Val Loss: 0.793185\n",
            "Epoch: 38/50... Step: 19100... Loss: 0.646038... Val Loss: 0.791606\n",
            "Epoch: 38/50... Step: 19200... Loss: 0.660825... Val Loss: 0.784923\n",
            "Epoch: 38/50... Step: 19300... Loss: 0.661030... Val Loss: 0.789178\n",
            "Epoch: 38/50... Step: 19400... Loss: 0.629848... Val Loss: 0.791868\n",
            "Epoch: 38/50... Step: 19500... Loss: 0.598452... Val Loss: 0.793235\n",
            "Epoch: 39/50... Step: 19600... Loss: 0.616305... Val Loss: 0.790353\n",
            "Epoch: 39/50... Step: 19700... Loss: 0.613954... Val Loss: 0.791263\n",
            "Epoch: 39/50... Step: 19800... Loss: 0.612601... Val Loss: 0.787176\n",
            "Epoch: 39/50... Step: 19900... Loss: 0.614048... Val Loss: 0.788508\n",
            "Epoch: 39/50... Step: 20000... Loss: 0.623754... Val Loss: 0.787945\n",
            "Epoch: 40/50... Step: 20100... Loss: 0.613476... Val Loss: 0.790135\n",
            "Epoch: 40/50... Step: 20200... Loss: 0.600050... Val Loss: 0.786518\n",
            "Epoch: 40/50... Step: 20300... Loss: 0.629608... Val Loss: 0.783278\n",
            "Epoch: 40/50... Step: 20400... Loss: 0.664449... Val Loss: 0.788153\n",
            "Epoch: 40/50... Step: 20500... Loss: 0.645128... Val Loss: 0.788929\n",
            "Epoch: 41/50... Step: 20600... Loss: 0.614125... Val Loss: 0.788096\n",
            "Epoch: 41/50... Step: 20700... Loss: 0.598643... Val Loss: 0.786251\n",
            "Epoch: 41/50... Step: 20800... Loss: 0.645261... Val Loss: 0.786534\n",
            "Epoch: 41/50... Step: 20900... Loss: 0.614043... Val Loss: 0.784294\n",
            "Epoch: 41/50... Step: 21000... Loss: 0.615205... Val Loss: 0.785734\n",
            "Epoch: 42/50... Step: 21100... Loss: 0.683846... Val Loss: 0.783764\n",
            "Epoch: 42/50... Step: 21200... Loss: 0.598316... Val Loss: 0.785902\n",
            "Epoch: 42/50... Step: 21300... Loss: 0.580671... Val Loss: 0.785392\n",
            "Epoch: 42/50... Step: 21400... Loss: 0.582708... Val Loss: 0.791834\n",
            "Epoch: 42/50... Step: 21500... Loss: 0.629689... Val Loss: 0.786661\n",
            "Epoch: 43/50... Step: 21600... Loss: 0.659354... Val Loss: 0.790582\n",
            "Epoch: 43/50... Step: 21700... Loss: 0.660831... Val Loss: 0.785668\n",
            "Epoch: 43/50... Step: 21800... Loss: 0.620032... Val Loss: 0.790610\n",
            "Epoch: 43/50... Step: 21900... Loss: 0.613445... Val Loss: 0.784163\n",
            "Epoch: 43/50... Step: 22000... Loss: 0.630930... Val Loss: 0.788983\n",
            "Epoch: 43/50... Step: 22100... Loss: 0.583224... Val Loss: 0.789875\n",
            "Epoch: 44/50... Step: 22200... Loss: 0.637003... Val Loss: 0.787377\n",
            "Epoch: 44/50... Step: 22300... Loss: 0.645143... Val Loss: 0.787914\n",
            "Epoch: 44/50... Step: 22400... Loss: 0.629678... Val Loss: 0.784442\n",
            "Epoch: 44/50... Step: 22500... Loss: 0.616819... Val Loss: 0.784416\n",
            "Epoch: 44/50... Step: 22600... Loss: 0.613961... Val Loss: 0.785304\n",
            "Epoch: 45/50... Step: 22700... Loss: 0.691997... Val Loss: 0.781774\n",
            "Epoch: 45/50... Step: 22800... Loss: 0.613957... Val Loss: 0.782416\n",
            "Epoch: 45/50... Step: 22900... Loss: 0.568429... Val Loss: 0.784869\n",
            "Epoch: 45/50... Step: 23000... Loss: 0.658209... Val Loss: 0.781625\n",
            "Epoch: 45/50... Step: 23100... Loss: 0.631129... Val Loss: 0.781344\n",
            "Epoch: 46/50... Step: 23200... Loss: 0.629609... Val Loss: 0.779707\n",
            "Epoch: 46/50... Step: 23300... Loss: 0.582753... Val Loss: 0.785180\n",
            "Epoch: 46/50... Step: 23400... Loss: 0.598319... Val Loss: 0.782548\n",
            "Epoch: 46/50... Step: 23500... Loss: 0.586317... Val Loss: 0.782454\n",
            "Epoch: 46/50... Step: 23600... Loss: 0.598373... Val Loss: 0.784441\n",
            "Epoch: 47/50... Step: 23700... Loss: 0.644307... Val Loss: 0.784919\n",
            "Epoch: 47/50... Step: 23800... Loss: 0.629601... Val Loss: 0.787150\n",
            "Epoch: 47/50... Step: 23900... Loss: 0.613979... Val Loss: 0.786063\n",
            "Epoch: 47/50... Step: 24000... Loss: 0.660818... Val Loss: 0.785875\n",
            "Epoch: 47/50... Step: 24100... Loss: 0.660823... Val Loss: 0.783935\n",
            "Epoch: 48/50... Step: 24200... Loss: 0.707613... Val Loss: 0.785058\n",
            "Epoch: 48/50... Step: 24300... Loss: 0.645235... Val Loss: 0.783393\n",
            "Epoch: 48/50... Step: 24400... Loss: 0.613946... Val Loss: 0.785284\n",
            "Epoch: 48/50... Step: 24500... Loss: 0.613946... Val Loss: 0.782450\n",
            "Epoch: 48/50... Step: 24600... Loss: 0.629589... Val Loss: 0.782222\n",
            "Epoch: 49/50... Step: 24700... Loss: 0.738941... Val Loss: 0.783967\n",
            "Epoch: 49/50... Step: 24800... Loss: 0.598320... Val Loss: 0.786792\n",
            "Epoch: 49/50... Step: 24900... Loss: 0.605084... Val Loss: 0.788289\n",
            "Epoch: 49/50... Step: 25000... Loss: 0.629655... Val Loss: 0.784381\n",
            "Epoch: 49/50... Step: 25100... Loss: 0.662260... Val Loss: 0.785432\n",
            "Epoch: 50/50... Step: 25200... Loss: 0.598322... Val Loss: 0.789505\n",
            "Epoch: 50/50... Step: 25300... Loss: 0.613954... Val Loss: 0.783333\n",
            "Epoch: 50/50... Step: 25400... Loss: 0.629881... Val Loss: 0.779434\n",
            "Epoch: 50/50... Step: 25500... Loss: 0.661819... Val Loss: 0.781977\n",
            "Epoch: 50/50... Step: 25600... Loss: 0.630934... Val Loss: 0.781743\n",
            "Epoch: 50/50... Step: 25700... Loss: 0.628758... Val Loss: 0.780370\n"
          ],
          "name": "stdout"
        }
      ]
    },
    {
      "cell_type": "markdown",
      "metadata": {
        "id": "yxaHBrN32GHj"
      },
      "source": [
        "# TEST"
      ]
    },
    {
      "cell_type": "code",
      "metadata": {
        "colab": {
          "base_uri": "https://localhost:8080/"
        },
        "id": "ngvqAKoj2GHj",
        "outputId": "c21e0196-e309-4532-ff98-ace8f10af31e"
      },
      "source": [
        "\n",
        "# Get test data loss and accuracy\n",
        "\n",
        "test_losses = [] # track loss\n",
        "num_correct = 0\n",
        "\n",
        "# init hidden state\n",
        "h = net.init_hidden(batch_size)\n",
        "\n",
        "net.eval()\n",
        "# iterate over test data\n",
        "for inputs, labels in test_loader:\n",
        "\n",
        "    # Creating new variables for the hidden state, otherwise\n",
        "    # we'd backprop through the entire training history\n",
        "    h = tuple([each.data for each in h])\n",
        "\n",
        "    if(train_on_gpu):\n",
        "        inputs, labels = inputs.cuda().type(torch.LongTensor), labels.type(torch.LongTensor).cuda()\n",
        "    \n",
        "    # get predicted outputs\n",
        "    #inputs = inputs.type(torch.LongTensor)\n",
        "    output, h = net(inputs, h)\n",
        "    \n",
        "    # calculate loss\n",
        "    test_loss = criterion(output.squeeze(), labels)\n",
        "    test_losses.append(test_loss.item())\n",
        "    #print(output)\n",
        "    #print(output.squeeze())\n",
        "    # convert output probabilities to predicted class (0 or 1)\n",
        "    #pred = torch.round(output.squeeze())  # rounds to the nearest integer\n",
        "    #pred = torch.max(output.squeeze(), 1)[1]\n",
        "    pred = torch.argmax(output,dim=1, keepdim=True)\n",
        "    #print(pred)\n",
        "    # compare predictions to true label\n",
        "    correct_tensor = pred.eq(labels.view_as(pred))\n",
        "    correct = np.squeeze(correct_tensor.numpy()) if not train_on_gpu else np.squeeze(correct_tensor.cpu().numpy())\n",
        "    num_correct += np.sum(correct)\n",
        "\n",
        "\n",
        "# -- stats! -- ##\n",
        "# avg test loss\n",
        "print(\"Test loss: {:.3f}\".format(np.mean(test_losses)))\n",
        "\n",
        "# accuracy over all test data\n",
        "test_acc = num_correct/len(test_loader.dataset)\n",
        "print(\"Test accuracy: {:.3f}\".format(test_acc))"
      ],
      "execution_count": 60,
      "outputs": [
        {
          "output_type": "stream",
          "text": [
            "Test loss: 0.786\n",
            "Test accuracy: 0.758\n"
          ],
          "name": "stdout"
        }
      ]
    },
    {
      "cell_type": "code",
      "metadata": {
        "id": "QigT9ttT2GHk"
      },
      "source": [
        "h = net.init_hidden(batch_size)\n",
        "prediction = []\n",
        "test_labels = []\n",
        "for inputs, labels in test_loader:\n",
        "  h = tuple([each.data for each in h])\n",
        "  inputs, labels = inputs.cuda().type(torch.LongTensor), labels.cuda().type(torch.LongTensor)\n",
        "  output, h = net(inputs, h)\n",
        "  pred = torch.argmax(output, dim=1, keepdim=True)\n",
        "  prediction.append(pred.tolist())\n",
        "  test_labels.append(labels.tolist())\n",
        "prediction = np.array(prediction).reshape(-1,)\n",
        "test_labels = np.array(test_labels).reshape(-1,)"
      ],
      "execution_count": 79,
      "outputs": []
    },
    {
      "cell_type": "code",
      "metadata": {
        "id": "4FWVQ44lCHlB",
        "colab": {
          "base_uri": "https://localhost:8080/"
        },
        "outputId": "8a9ed70f-6ae6-4dd9-952f-1550f873fea1"
      },
      "source": [
        "from sklearn.metrics import accuracy_score\n",
        "accuracy_score(prediction, test_labels)"
      ],
      "execution_count": 80,
      "outputs": [
        {
          "output_type": "execute_result",
          "data": {
            "text/plain": [
              "0.7635063559322034"
            ]
          },
          "metadata": {
            "tags": []
          },
          "execution_count": 80
        }
      ]
    },
    {
      "cell_type": "code",
      "metadata": {
        "colab": {
          "base_uri": "https://localhost:8080/"
        },
        "id": "PV2LWSHTdkSu",
        "outputId": "1f8cc4e6-021a-4937-f3c7-ddac27e77d18"
      },
      "source": [
        "from sklearn.metrics import classification_report\n",
        "print(classification_report(test_labels, prediction))"
      ],
      "execution_count": 82,
      "outputs": [
        {
          "output_type": "stream",
          "text": [
            "              precision    recall  f1-score   support\n",
            "\n",
            "           0       0.66      0.68      0.67       617\n",
            "           1       0.78      0.78      0.78      1531\n",
            "           2       0.79      0.78      0.78      1628\n",
            "\n",
            "    accuracy                           0.76      3776\n",
            "   macro avg       0.74      0.75      0.74      3776\n",
            "weighted avg       0.76      0.76      0.76      3776\n",
            "\n"
          ],
          "name": "stdout"
        }
      ]
    },
    {
      "cell_type": "code",
      "metadata": {
        "colab": {
          "base_uri": "https://localhost:8080/"
        },
        "id": "9sQxzGU7dxdN",
        "outputId": "2f0ebd25-e78d-4495-c6d3-0fd66d26bfbd"
      },
      "source": [
        "a"
      ],
      "execution_count": 75,
      "outputs": [
        {
          "output_type": "execute_result",
          "data": {
            "text/plain": [
              "array([1, 1, 1, ..., 0, 1, 2])"
            ]
          },
          "metadata": {
            "tags": []
          },
          "execution_count": 75
        }
      ]
    },
    {
      "cell_type": "code",
      "metadata": {
        "id": "dRboaGxPeDk5"
      },
      "source": [
        ""
      ],
      "execution_count": null,
      "outputs": []
    }
  ]
}